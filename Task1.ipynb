{
  "cells": [
    {
      "cell_type": "markdown",
      "metadata": {
        "id": "view-in-github",
        "colab_type": "text"
      },
      "source": [
        "<a href=\"https://colab.research.google.com/github/abhinavbhandar/task-1/blob/main/Task1.ipynb\" target=\"_parent\"><img src=\"https://colab.research.google.com/assets/colab-badge.svg\" alt=\"Open In Colab\"/></a>"
      ]
    },
    {
      "cell_type": "markdown",
      "id": "2f895188",
      "metadata": {
        "id": "2f895188"
      },
      "source": [
        "# Task 1 Problem\n",
        "\n",
        "Your task is to help John from STA IT services to create a linear regression model in Python or R to predict the CTC/Salary of new hires from the data provided.\n",
        "\n",
        "Your task is to\n",
        "1.\tUnderstand the data\n",
        "2.\tTransform categorical variables to the numerical variables\n",
        "3.\tApply linear regression to predict the CTC\n",
        "4.\tEvaluate the results of the analysis\n",
        "\n",
        "Excel data files are provided to you to help you with the assignment.\n",
        "Data_file.xlsx\n",
        "Data_file is a dataset that you will use to train your model.\n",
        "Test Data files:\n",
        "Test_data_file.xlsx\n",
        "\n",
        "Test_Data_file is a dataset that you will use to test your model and find out the Mean Square Value.\n"
      ]
    },
    {
      "cell_type": "code",
      "execution_count": 5,
      "id": "2c7380bd",
      "metadata": {
        "id": "2c7380bd"
      },
      "outputs": [],
      "source": [
        "import numpy as np\n",
        "import pandas as pd\n",
        "import seaborn as sns\n",
        "import matplotlib.pyplot as plt"
      ]
    },
    {
      "cell_type": "markdown",
      "id": "431fca0a",
      "metadata": {
        "id": "431fca0a"
      },
      "source": [
        "## Data Gathering"
      ]
    },
    {
      "cell_type": "code",
      "execution_count": 8,
      "id": "d04538b2",
      "metadata": {
        "id": "d04538b2"
      },
      "outputs": [],
      "source": [
        "train = pd.read_excel(\"/content/Data_file (1).xlsx\",header=2,index_col=0)"
      ]
    },
    {
      "cell_type": "code",
      "execution_count": null,
      "id": "ac5f2735",
      "metadata": {
        "id": "ac5f2735"
      },
      "outputs": [],
      "source": [
        ""
      ]
    },
    {
      "cell_type": "code",
      "execution_count": 9,
      "id": "d6d39be6",
      "metadata": {
        "colab": {
          "base_uri": "https://localhost:8080/",
          "height": 334
        },
        "id": "d6d39be6",
        "outputId": "b585bdd3-01fc-4b55-ecf8-3ffcd8747676"
      },
      "outputs": [
        {
          "output_type": "execute_result",
          "data": {
            "text/plain": [
              "      College       Role  City type  Previous CTC  Previous job changes  \\\n",
              "S.No.                                                                     \n",
              "1      Tier 1    Manager  Non-Metro         55523                     3   \n",
              "2      Tier 2  Executive      Metro         57081                     1   \n",
              "3      Tier 2  Executive      Metro         60347                     2   \n",
              "4      Tier 3  Executive      Metro         49010                     2   \n",
              "5      Tier 3  Executive      Metro         57879                     4   \n",
              "\n",
              "       Graduation marks  Exp (Months)           CTC  \n",
              "S.No.                                                \n",
              "1                    66            19  71406.576531  \n",
              "2                    84            18  68005.870631  \n",
              "3                    52            28  76764.020277  \n",
              "4                    81            33  82092.386880  \n",
              "5                    74            32  73878.097729  "
            ],
            "text/html": [
              "\n",
              "  <div id=\"df-7b65ada0-da88-4911-bdad-c5580116cc82\">\n",
              "    <div class=\"colab-df-container\">\n",
              "      <div>\n",
              "<style scoped>\n",
              "    .dataframe tbody tr th:only-of-type {\n",
              "        vertical-align: middle;\n",
              "    }\n",
              "\n",
              "    .dataframe tbody tr th {\n",
              "        vertical-align: top;\n",
              "    }\n",
              "\n",
              "    .dataframe thead th {\n",
              "        text-align: right;\n",
              "    }\n",
              "</style>\n",
              "<table border=\"1\" class=\"dataframe\">\n",
              "  <thead>\n",
              "    <tr style=\"text-align: right;\">\n",
              "      <th></th>\n",
              "      <th>College</th>\n",
              "      <th>Role</th>\n",
              "      <th>City type</th>\n",
              "      <th>Previous CTC</th>\n",
              "      <th>Previous job changes</th>\n",
              "      <th>Graduation marks</th>\n",
              "      <th>Exp (Months)</th>\n",
              "      <th>CTC</th>\n",
              "    </tr>\n",
              "    <tr>\n",
              "      <th>S.No.</th>\n",
              "      <th></th>\n",
              "      <th></th>\n",
              "      <th></th>\n",
              "      <th></th>\n",
              "      <th></th>\n",
              "      <th></th>\n",
              "      <th></th>\n",
              "      <th></th>\n",
              "    </tr>\n",
              "  </thead>\n",
              "  <tbody>\n",
              "    <tr>\n",
              "      <th>1</th>\n",
              "      <td>Tier 1</td>\n",
              "      <td>Manager</td>\n",
              "      <td>Non-Metro</td>\n",
              "      <td>55523</td>\n",
              "      <td>3</td>\n",
              "      <td>66</td>\n",
              "      <td>19</td>\n",
              "      <td>71406.576531</td>\n",
              "    </tr>\n",
              "    <tr>\n",
              "      <th>2</th>\n",
              "      <td>Tier 2</td>\n",
              "      <td>Executive</td>\n",
              "      <td>Metro</td>\n",
              "      <td>57081</td>\n",
              "      <td>1</td>\n",
              "      <td>84</td>\n",
              "      <td>18</td>\n",
              "      <td>68005.870631</td>\n",
              "    </tr>\n",
              "    <tr>\n",
              "      <th>3</th>\n",
              "      <td>Tier 2</td>\n",
              "      <td>Executive</td>\n",
              "      <td>Metro</td>\n",
              "      <td>60347</td>\n",
              "      <td>2</td>\n",
              "      <td>52</td>\n",
              "      <td>28</td>\n",
              "      <td>76764.020277</td>\n",
              "    </tr>\n",
              "    <tr>\n",
              "      <th>4</th>\n",
              "      <td>Tier 3</td>\n",
              "      <td>Executive</td>\n",
              "      <td>Metro</td>\n",
              "      <td>49010</td>\n",
              "      <td>2</td>\n",
              "      <td>81</td>\n",
              "      <td>33</td>\n",
              "      <td>82092.386880</td>\n",
              "    </tr>\n",
              "    <tr>\n",
              "      <th>5</th>\n",
              "      <td>Tier 3</td>\n",
              "      <td>Executive</td>\n",
              "      <td>Metro</td>\n",
              "      <td>57879</td>\n",
              "      <td>4</td>\n",
              "      <td>74</td>\n",
              "      <td>32</td>\n",
              "      <td>73878.097729</td>\n",
              "    </tr>\n",
              "  </tbody>\n",
              "</table>\n",
              "</div>\n",
              "      <button class=\"colab-df-convert\" onclick=\"convertToInteractive('df-7b65ada0-da88-4911-bdad-c5580116cc82')\"\n",
              "              title=\"Convert this dataframe to an interactive table.\"\n",
              "              style=\"display:none;\">\n",
              "        \n",
              "  <svg xmlns=\"http://www.w3.org/2000/svg\" height=\"24px\"viewBox=\"0 0 24 24\"\n",
              "       width=\"24px\">\n",
              "    <path d=\"M0 0h24v24H0V0z\" fill=\"none\"/>\n",
              "    <path d=\"M18.56 5.44l.94 2.06.94-2.06 2.06-.94-2.06-.94-.94-2.06-.94 2.06-2.06.94zm-11 1L8.5 8.5l.94-2.06 2.06-.94-2.06-.94L8.5 2.5l-.94 2.06-2.06.94zm10 10l.94 2.06.94-2.06 2.06-.94-2.06-.94-.94-2.06-.94 2.06-2.06.94z\"/><path d=\"M17.41 7.96l-1.37-1.37c-.4-.4-.92-.59-1.43-.59-.52 0-1.04.2-1.43.59L10.3 9.45l-7.72 7.72c-.78.78-.78 2.05 0 2.83L4 21.41c.39.39.9.59 1.41.59.51 0 1.02-.2 1.41-.59l7.78-7.78 2.81-2.81c.8-.78.8-2.07 0-2.86zM5.41 20L4 18.59l7.72-7.72 1.47 1.35L5.41 20z\"/>\n",
              "  </svg>\n",
              "      </button>\n",
              "      \n",
              "  <style>\n",
              "    .colab-df-container {\n",
              "      display:flex;\n",
              "      flex-wrap:wrap;\n",
              "      gap: 12px;\n",
              "    }\n",
              "\n",
              "    .colab-df-convert {\n",
              "      background-color: #E8F0FE;\n",
              "      border: none;\n",
              "      border-radius: 50%;\n",
              "      cursor: pointer;\n",
              "      display: none;\n",
              "      fill: #1967D2;\n",
              "      height: 32px;\n",
              "      padding: 0 0 0 0;\n",
              "      width: 32px;\n",
              "    }\n",
              "\n",
              "    .colab-df-convert:hover {\n",
              "      background-color: #E2EBFA;\n",
              "      box-shadow: 0px 1px 2px rgba(60, 64, 67, 0.3), 0px 1px 3px 1px rgba(60, 64, 67, 0.15);\n",
              "      fill: #174EA6;\n",
              "    }\n",
              "\n",
              "    [theme=dark] .colab-df-convert {\n",
              "      background-color: #3B4455;\n",
              "      fill: #D2E3FC;\n",
              "    }\n",
              "\n",
              "    [theme=dark] .colab-df-convert:hover {\n",
              "      background-color: #434B5C;\n",
              "      box-shadow: 0px 1px 3px 1px rgba(0, 0, 0, 0.15);\n",
              "      filter: drop-shadow(0px 1px 2px rgba(0, 0, 0, 0.3));\n",
              "      fill: #FFFFFF;\n",
              "    }\n",
              "  </style>\n",
              "\n",
              "      <script>\n",
              "        const buttonEl =\n",
              "          document.querySelector('#df-7b65ada0-da88-4911-bdad-c5580116cc82 button.colab-df-convert');\n",
              "        buttonEl.style.display =\n",
              "          google.colab.kernel.accessAllowed ? 'block' : 'none';\n",
              "\n",
              "        async function convertToInteractive(key) {\n",
              "          const element = document.querySelector('#df-7b65ada0-da88-4911-bdad-c5580116cc82');\n",
              "          const dataTable =\n",
              "            await google.colab.kernel.invokeFunction('convertToInteractive',\n",
              "                                                     [key], {});\n",
              "          if (!dataTable) return;\n",
              "\n",
              "          const docLinkHtml = 'Like what you see? Visit the ' +\n",
              "            '<a target=\"_blank\" href=https://colab.research.google.com/notebooks/data_table.ipynb>data table notebook</a>'\n",
              "            + ' to learn more about interactive tables.';\n",
              "          element.innerHTML = '';\n",
              "          dataTable['output_type'] = 'display_data';\n",
              "          await google.colab.output.renderOutput(dataTable, element);\n",
              "          const docLink = document.createElement('div');\n",
              "          docLink.innerHTML = docLinkHtml;\n",
              "          element.appendChild(docLink);\n",
              "        }\n",
              "      </script>\n",
              "    </div>\n",
              "  </div>\n",
              "  "
            ]
          },
          "metadata": {},
          "execution_count": 9
        }
      ],
      "source": [
        "train.head()"
      ]
    },
    {
      "cell_type": "markdown",
      "id": "823e4513",
      "metadata": {
        "id": "823e4513"
      },
      "source": [
        "## Statistics Description"
      ]
    },
    {
      "cell_type": "code",
      "execution_count": 10,
      "id": "efda2df8",
      "metadata": {
        "scrolled": true,
        "colab": {
          "base_uri": "https://localhost:8080/"
        },
        "id": "efda2df8",
        "outputId": "0d623f0b-22b8-4769-b31e-65ecc83dd793"
      },
      "outputs": [
        {
          "output_type": "stream",
          "name": "stdout",
          "text": [
            "<class 'pandas.core.frame.DataFrame'>\n",
            "Int64Index: 1338 entries, 1 to 1338\n",
            "Data columns (total 8 columns):\n",
            " #   Column                Non-Null Count  Dtype  \n",
            "---  ------                --------------  -----  \n",
            " 0   College               1338 non-null   object \n",
            " 1   Role                  1338 non-null   object \n",
            " 2   City type             1338 non-null   object \n",
            " 3   Previous CTC          1338 non-null   int64  \n",
            " 4   Previous job changes  1338 non-null   int64  \n",
            " 5   Graduation marks      1338 non-null   int64  \n",
            " 6   Exp (Months)          1338 non-null   int64  \n",
            " 7   CTC                   1338 non-null   float64\n",
            "dtypes: float64(1), int64(4), object(3)\n",
            "memory usage: 94.1+ KB\n"
          ]
        }
      ],
      "source": [
        "train.info()"
      ]
    },
    {
      "cell_type": "code",
      "execution_count": 11,
      "id": "2f89cce2",
      "metadata": {
        "colab": {
          "base_uri": "https://localhost:8080/",
          "height": 344
        },
        "id": "2f89cce2",
        "outputId": "1cd373cd-88c2-4c2c-cef0-26473e384ae0"
      },
      "outputs": [
        {
          "output_type": "execute_result",
          "data": {
            "text/plain": [
              "       Previous CTC  Previous job changes  Graduation marks  Exp (Months)  \\\n",
              "count   1338.000000           1338.000000       1338.000000   1338.000000   \n",
              "mean   55581.762332              2.525411         59.890882     39.207025   \n",
              "std     6685.600553              1.123502         14.894696     14.049960   \n",
              "min    36990.000000              1.000000         35.000000     18.000000   \n",
              "25%    50547.000000              2.000000         47.000000     27.000000   \n",
              "50%    55293.500000              3.000000         60.000000     39.000000   \n",
              "75%    60150.500000              4.000000         73.000000     51.000000   \n",
              "max    77911.000000              4.000000         85.000000     64.000000   \n",
              "\n",
              "                 CTC  \n",
              "count    1338.000000  \n",
              "mean    75459.338993  \n",
              "std     12551.280263  \n",
              "min     53020.319026  \n",
              "25%     66905.070033  \n",
              "50%     73112.640487  \n",
              "75%     80747.178420  \n",
              "max    123416.994271  "
            ],
            "text/html": [
              "\n",
              "  <div id=\"df-d542306b-77fd-444d-a087-9f37234f66d9\">\n",
              "    <div class=\"colab-df-container\">\n",
              "      <div>\n",
              "<style scoped>\n",
              "    .dataframe tbody tr th:only-of-type {\n",
              "        vertical-align: middle;\n",
              "    }\n",
              "\n",
              "    .dataframe tbody tr th {\n",
              "        vertical-align: top;\n",
              "    }\n",
              "\n",
              "    .dataframe thead th {\n",
              "        text-align: right;\n",
              "    }\n",
              "</style>\n",
              "<table border=\"1\" class=\"dataframe\">\n",
              "  <thead>\n",
              "    <tr style=\"text-align: right;\">\n",
              "      <th></th>\n",
              "      <th>Previous CTC</th>\n",
              "      <th>Previous job changes</th>\n",
              "      <th>Graduation marks</th>\n",
              "      <th>Exp (Months)</th>\n",
              "      <th>CTC</th>\n",
              "    </tr>\n",
              "  </thead>\n",
              "  <tbody>\n",
              "    <tr>\n",
              "      <th>count</th>\n",
              "      <td>1338.000000</td>\n",
              "      <td>1338.000000</td>\n",
              "      <td>1338.000000</td>\n",
              "      <td>1338.000000</td>\n",
              "      <td>1338.000000</td>\n",
              "    </tr>\n",
              "    <tr>\n",
              "      <th>mean</th>\n",
              "      <td>55581.762332</td>\n",
              "      <td>2.525411</td>\n",
              "      <td>59.890882</td>\n",
              "      <td>39.207025</td>\n",
              "      <td>75459.338993</td>\n",
              "    </tr>\n",
              "    <tr>\n",
              "      <th>std</th>\n",
              "      <td>6685.600553</td>\n",
              "      <td>1.123502</td>\n",
              "      <td>14.894696</td>\n",
              "      <td>14.049960</td>\n",
              "      <td>12551.280263</td>\n",
              "    </tr>\n",
              "    <tr>\n",
              "      <th>min</th>\n",
              "      <td>36990.000000</td>\n",
              "      <td>1.000000</td>\n",
              "      <td>35.000000</td>\n",
              "      <td>18.000000</td>\n",
              "      <td>53020.319026</td>\n",
              "    </tr>\n",
              "    <tr>\n",
              "      <th>25%</th>\n",
              "      <td>50547.000000</td>\n",
              "      <td>2.000000</td>\n",
              "      <td>47.000000</td>\n",
              "      <td>27.000000</td>\n",
              "      <td>66905.070033</td>\n",
              "    </tr>\n",
              "    <tr>\n",
              "      <th>50%</th>\n",
              "      <td>55293.500000</td>\n",
              "      <td>3.000000</td>\n",
              "      <td>60.000000</td>\n",
              "      <td>39.000000</td>\n",
              "      <td>73112.640487</td>\n",
              "    </tr>\n",
              "    <tr>\n",
              "      <th>75%</th>\n",
              "      <td>60150.500000</td>\n",
              "      <td>4.000000</td>\n",
              "      <td>73.000000</td>\n",
              "      <td>51.000000</td>\n",
              "      <td>80747.178420</td>\n",
              "    </tr>\n",
              "    <tr>\n",
              "      <th>max</th>\n",
              "      <td>77911.000000</td>\n",
              "      <td>4.000000</td>\n",
              "      <td>85.000000</td>\n",
              "      <td>64.000000</td>\n",
              "      <td>123416.994271</td>\n",
              "    </tr>\n",
              "  </tbody>\n",
              "</table>\n",
              "</div>\n",
              "      <button class=\"colab-df-convert\" onclick=\"convertToInteractive('df-d542306b-77fd-444d-a087-9f37234f66d9')\"\n",
              "              title=\"Convert this dataframe to an interactive table.\"\n",
              "              style=\"display:none;\">\n",
              "        \n",
              "  <svg xmlns=\"http://www.w3.org/2000/svg\" height=\"24px\"viewBox=\"0 0 24 24\"\n",
              "       width=\"24px\">\n",
              "    <path d=\"M0 0h24v24H0V0z\" fill=\"none\"/>\n",
              "    <path d=\"M18.56 5.44l.94 2.06.94-2.06 2.06-.94-2.06-.94-.94-2.06-.94 2.06-2.06.94zm-11 1L8.5 8.5l.94-2.06 2.06-.94-2.06-.94L8.5 2.5l-.94 2.06-2.06.94zm10 10l.94 2.06.94-2.06 2.06-.94-2.06-.94-.94-2.06-.94 2.06-2.06.94z\"/><path d=\"M17.41 7.96l-1.37-1.37c-.4-.4-.92-.59-1.43-.59-.52 0-1.04.2-1.43.59L10.3 9.45l-7.72 7.72c-.78.78-.78 2.05 0 2.83L4 21.41c.39.39.9.59 1.41.59.51 0 1.02-.2 1.41-.59l7.78-7.78 2.81-2.81c.8-.78.8-2.07 0-2.86zM5.41 20L4 18.59l7.72-7.72 1.47 1.35L5.41 20z\"/>\n",
              "  </svg>\n",
              "      </button>\n",
              "      \n",
              "  <style>\n",
              "    .colab-df-container {\n",
              "      display:flex;\n",
              "      flex-wrap:wrap;\n",
              "      gap: 12px;\n",
              "    }\n",
              "\n",
              "    .colab-df-convert {\n",
              "      background-color: #E8F0FE;\n",
              "      border: none;\n",
              "      border-radius: 50%;\n",
              "      cursor: pointer;\n",
              "      display: none;\n",
              "      fill: #1967D2;\n",
              "      height: 32px;\n",
              "      padding: 0 0 0 0;\n",
              "      width: 32px;\n",
              "    }\n",
              "\n",
              "    .colab-df-convert:hover {\n",
              "      background-color: #E2EBFA;\n",
              "      box-shadow: 0px 1px 2px rgba(60, 64, 67, 0.3), 0px 1px 3px 1px rgba(60, 64, 67, 0.15);\n",
              "      fill: #174EA6;\n",
              "    }\n",
              "\n",
              "    [theme=dark] .colab-df-convert {\n",
              "      background-color: #3B4455;\n",
              "      fill: #D2E3FC;\n",
              "    }\n",
              "\n",
              "    [theme=dark] .colab-df-convert:hover {\n",
              "      background-color: #434B5C;\n",
              "      box-shadow: 0px 1px 3px 1px rgba(0, 0, 0, 0.15);\n",
              "      filter: drop-shadow(0px 1px 2px rgba(0, 0, 0, 0.3));\n",
              "      fill: #FFFFFF;\n",
              "    }\n",
              "  </style>\n",
              "\n",
              "      <script>\n",
              "        const buttonEl =\n",
              "          document.querySelector('#df-d542306b-77fd-444d-a087-9f37234f66d9 button.colab-df-convert');\n",
              "        buttonEl.style.display =\n",
              "          google.colab.kernel.accessAllowed ? 'block' : 'none';\n",
              "\n",
              "        async function convertToInteractive(key) {\n",
              "          const element = document.querySelector('#df-d542306b-77fd-444d-a087-9f37234f66d9');\n",
              "          const dataTable =\n",
              "            await google.colab.kernel.invokeFunction('convertToInteractive',\n",
              "                                                     [key], {});\n",
              "          if (!dataTable) return;\n",
              "\n",
              "          const docLinkHtml = 'Like what you see? Visit the ' +\n",
              "            '<a target=\"_blank\" href=https://colab.research.google.com/notebooks/data_table.ipynb>data table notebook</a>'\n",
              "            + ' to learn more about interactive tables.';\n",
              "          element.innerHTML = '';\n",
              "          dataTable['output_type'] = 'display_data';\n",
              "          await google.colab.output.renderOutput(dataTable, element);\n",
              "          const docLink = document.createElement('div');\n",
              "          docLink.innerHTML = docLinkHtml;\n",
              "          element.appendChild(docLink);\n",
              "        }\n",
              "      </script>\n",
              "    </div>\n",
              "  </div>\n",
              "  "
            ]
          },
          "metadata": {},
          "execution_count": 11
        }
      ],
      "source": [
        "train.describe()"
      ]
    },
    {
      "cell_type": "code",
      "execution_count": 12,
      "id": "0d9ff08d",
      "metadata": {
        "colab": {
          "base_uri": "https://localhost:8080/",
          "height": 175
        },
        "id": "0d9ff08d",
        "outputId": "6b52e0f1-f262-4083-dfbc-2ec2e3a4dda0"
      },
      "outputs": [
        {
          "output_type": "execute_result",
          "data": {
            "text/plain": [
              "       College       Role City type\n",
              "count     1338       1338      1338\n",
              "unique       3          2         2\n",
              "top     Tier 1  Executive     Metro\n",
              "freq       649       1064       676"
            ],
            "text/html": [
              "\n",
              "  <div id=\"df-7be5b94b-133f-4ccc-b70d-11d473fe06c0\">\n",
              "    <div class=\"colab-df-container\">\n",
              "      <div>\n",
              "<style scoped>\n",
              "    .dataframe tbody tr th:only-of-type {\n",
              "        vertical-align: middle;\n",
              "    }\n",
              "\n",
              "    .dataframe tbody tr th {\n",
              "        vertical-align: top;\n",
              "    }\n",
              "\n",
              "    .dataframe thead th {\n",
              "        text-align: right;\n",
              "    }\n",
              "</style>\n",
              "<table border=\"1\" class=\"dataframe\">\n",
              "  <thead>\n",
              "    <tr style=\"text-align: right;\">\n",
              "      <th></th>\n",
              "      <th>College</th>\n",
              "      <th>Role</th>\n",
              "      <th>City type</th>\n",
              "    </tr>\n",
              "  </thead>\n",
              "  <tbody>\n",
              "    <tr>\n",
              "      <th>count</th>\n",
              "      <td>1338</td>\n",
              "      <td>1338</td>\n",
              "      <td>1338</td>\n",
              "    </tr>\n",
              "    <tr>\n",
              "      <th>unique</th>\n",
              "      <td>3</td>\n",
              "      <td>2</td>\n",
              "      <td>2</td>\n",
              "    </tr>\n",
              "    <tr>\n",
              "      <th>top</th>\n",
              "      <td>Tier 1</td>\n",
              "      <td>Executive</td>\n",
              "      <td>Metro</td>\n",
              "    </tr>\n",
              "    <tr>\n",
              "      <th>freq</th>\n",
              "      <td>649</td>\n",
              "      <td>1064</td>\n",
              "      <td>676</td>\n",
              "    </tr>\n",
              "  </tbody>\n",
              "</table>\n",
              "</div>\n",
              "      <button class=\"colab-df-convert\" onclick=\"convertToInteractive('df-7be5b94b-133f-4ccc-b70d-11d473fe06c0')\"\n",
              "              title=\"Convert this dataframe to an interactive table.\"\n",
              "              style=\"display:none;\">\n",
              "        \n",
              "  <svg xmlns=\"http://www.w3.org/2000/svg\" height=\"24px\"viewBox=\"0 0 24 24\"\n",
              "       width=\"24px\">\n",
              "    <path d=\"M0 0h24v24H0V0z\" fill=\"none\"/>\n",
              "    <path d=\"M18.56 5.44l.94 2.06.94-2.06 2.06-.94-2.06-.94-.94-2.06-.94 2.06-2.06.94zm-11 1L8.5 8.5l.94-2.06 2.06-.94-2.06-.94L8.5 2.5l-.94 2.06-2.06.94zm10 10l.94 2.06.94-2.06 2.06-.94-2.06-.94-.94-2.06-.94 2.06-2.06.94z\"/><path d=\"M17.41 7.96l-1.37-1.37c-.4-.4-.92-.59-1.43-.59-.52 0-1.04.2-1.43.59L10.3 9.45l-7.72 7.72c-.78.78-.78 2.05 0 2.83L4 21.41c.39.39.9.59 1.41.59.51 0 1.02-.2 1.41-.59l7.78-7.78 2.81-2.81c.8-.78.8-2.07 0-2.86zM5.41 20L4 18.59l7.72-7.72 1.47 1.35L5.41 20z\"/>\n",
              "  </svg>\n",
              "      </button>\n",
              "      \n",
              "  <style>\n",
              "    .colab-df-container {\n",
              "      display:flex;\n",
              "      flex-wrap:wrap;\n",
              "      gap: 12px;\n",
              "    }\n",
              "\n",
              "    .colab-df-convert {\n",
              "      background-color: #E8F0FE;\n",
              "      border: none;\n",
              "      border-radius: 50%;\n",
              "      cursor: pointer;\n",
              "      display: none;\n",
              "      fill: #1967D2;\n",
              "      height: 32px;\n",
              "      padding: 0 0 0 0;\n",
              "      width: 32px;\n",
              "    }\n",
              "\n",
              "    .colab-df-convert:hover {\n",
              "      background-color: #E2EBFA;\n",
              "      box-shadow: 0px 1px 2px rgba(60, 64, 67, 0.3), 0px 1px 3px 1px rgba(60, 64, 67, 0.15);\n",
              "      fill: #174EA6;\n",
              "    }\n",
              "\n",
              "    [theme=dark] .colab-df-convert {\n",
              "      background-color: #3B4455;\n",
              "      fill: #D2E3FC;\n",
              "    }\n",
              "\n",
              "    [theme=dark] .colab-df-convert:hover {\n",
              "      background-color: #434B5C;\n",
              "      box-shadow: 0px 1px 3px 1px rgba(0, 0, 0, 0.15);\n",
              "      filter: drop-shadow(0px 1px 2px rgba(0, 0, 0, 0.3));\n",
              "      fill: #FFFFFF;\n",
              "    }\n",
              "  </style>\n",
              "\n",
              "      <script>\n",
              "        const buttonEl =\n",
              "          document.querySelector('#df-7be5b94b-133f-4ccc-b70d-11d473fe06c0 button.colab-df-convert');\n",
              "        buttonEl.style.display =\n",
              "          google.colab.kernel.accessAllowed ? 'block' : 'none';\n",
              "\n",
              "        async function convertToInteractive(key) {\n",
              "          const element = document.querySelector('#df-7be5b94b-133f-4ccc-b70d-11d473fe06c0');\n",
              "          const dataTable =\n",
              "            await google.colab.kernel.invokeFunction('convertToInteractive',\n",
              "                                                     [key], {});\n",
              "          if (!dataTable) return;\n",
              "\n",
              "          const docLinkHtml = 'Like what you see? Visit the ' +\n",
              "            '<a target=\"_blank\" href=https://colab.research.google.com/notebooks/data_table.ipynb>data table notebook</a>'\n",
              "            + ' to learn more about interactive tables.';\n",
              "          element.innerHTML = '';\n",
              "          dataTable['output_type'] = 'display_data';\n",
              "          await google.colab.output.renderOutput(dataTable, element);\n",
              "          const docLink = document.createElement('div');\n",
              "          docLink.innerHTML = docLinkHtml;\n",
              "          element.appendChild(docLink);\n",
              "        }\n",
              "      </script>\n",
              "    </div>\n",
              "  </div>\n",
              "  "
            ]
          },
          "metadata": {},
          "execution_count": 12
        }
      ],
      "source": [
        "train.describe(include=\"object\")"
      ]
    },
    {
      "cell_type": "raw",
      "id": "28a735f8",
      "metadata": {
        "id": "28a735f8"
      },
      "source": [
        ""
      ]
    },
    {
      "cell_type": "markdown",
      "id": "e6e13415",
      "metadata": {
        "id": "e6e13415"
      },
      "source": [
        "# Observation\n",
        "1) Categorical Variables : College , Role and City type \n",
        "\n",
        "2) No Null Values found\n"
      ]
    },
    {
      "cell_type": "markdown",
      "id": "ecc61d34",
      "metadata": {
        "id": "ecc61d34"
      },
      "source": [
        "# Exploratory Data Analysis\n",
        "\n",
        "Here we see the count of categorical variables we discussed before to check for any feature engineering requirements.\n",
        "\n",
        "## Univariate Analysis"
      ]
    },
    {
      "cell_type": "code",
      "execution_count": 13,
      "id": "d6528436",
      "metadata": {
        "colab": {
          "base_uri": "https://localhost:8080/",
          "height": 464
        },
        "id": "d6528436",
        "outputId": "ed91d83a-91d3-4a2a-fb98-f5412edc3265"
      },
      "outputs": [
        {
          "output_type": "execute_result",
          "data": {
            "text/plain": [
              "<matplotlib.axes._subplots.AxesSubplot at 0x7fcc7f2642d0>"
            ]
          },
          "metadata": {},
          "execution_count": 13
        },
        {
          "output_type": "display_data",
          "data": {
            "text/plain": [
              "<Figure size 1152x720 with 4 Axes>"
            ],
            "image/png": "[encoded data removed]"
          },
          "metadata": {}
        }
      ],
      "source": [
        "plt.rcParams['figure.figsize'] = (16,10)\n",
        "plt.style.use('seaborn-whitegrid')\n",
        "\n",
        "#Role variable\n",
        "plt.subplot(2,2,1)\n",
        "sns.countplot(x=\"Role\",data=train)\n",
        "\n",
        "plt.subplot(2,2,2)\n",
        "sns.countplot(x=\"College\",data=train)\n",
        "\n",
        "plt.subplot(2,2,3)\n",
        "sns.countplot(x=\"City type\",data=train)\n",
        "\n",
        "plt.subplot(2,2,4)\n",
        "sns.countplot(x=\"Previous job changes\",data=train)"
      ]
    },
    {
      "cell_type": "code",
      "execution_count": 14,
      "id": "6f23ecf2",
      "metadata": {
        "colab": {
          "base_uri": "https://localhost:8080/",
          "height": 274
        },
        "id": "6f23ecf2",
        "outputId": "2a643d49-ce00-436d-e60a-8c3e5729513b"
      },
      "outputs": [
        {
          "output_type": "execute_result",
          "data": {
            "text/plain": [
              "Text(0.5, 1.0, 'City Type\\n')"
            ]
          },
          "metadata": {},
          "execution_count": 14
        },
        {
          "output_type": "display_data",
          "data": {
            "text/plain": [
              "<Figure size 1224x360 with 3 Axes>"
            ],
            "image/png": "[encoded data removed]"
          },
          "metadata": {}
        }
      ],
      "source": [
        "plt.rcParams['figure.figsize'] = (17,5)\n",
        "plt.style.use('seaborn-whitegrid')\n",
        "\n",
        "#College Variable\n",
        "plt.subplot(1,3,1)\n",
        "plt.pie(x=train.College.value_counts(),labels=[\"Tier1\",\"Tier2\",\"Tier3\"],shadow=True, explode=[0.05,0.05,0.05])\n",
        "plt.title('College Tier\\n',fontsize=20)\n",
        "\n",
        "#Role Variable\n",
        "plt.subplot(1,3,2)\n",
        "plt.pie(x=train.Role.value_counts(),labels=[\"Executive\",\"Manager\"],shadow=True, explode=[0.05,0.05])\n",
        "plt.title('Role\\n',fontsize=20)\n",
        "\n",
        "#City Type Variable\n",
        "plt.subplot(1,3,3)\n",
        "plt.pie(x=train['City type'].value_counts(),labels=[\"Non-Metro\",\"Metro\"],shadow=True, explode=[0.05,0.05])\n",
        "plt.title(\"City Type\\n\",fontsize=20)"
      ]
    },
    {
      "cell_type": "markdown",
      "id": "4ee7070d",
      "metadata": {
        "id": "4ee7070d"
      },
      "source": [
        "## Bivariate Analysis"
      ]
    },
    {
      "cell_type": "code",
      "execution_count": 15,
      "id": "63d2798f",
      "metadata": {
        "id": "63d2798f",
        "outputId": "bc636aa1-2dfb-4621-9f70-b9137bb81db0",
        "colab": {
          "base_uri": "https://localhost:8080/",
          "height": 459
        }
      },
      "outputs": [
        {
          "output_type": "execute_result",
          "data": {
            "text/plain": [
              "<seaborn.axisgrid.JointGrid at 0x7fcc7f2643d0>"
            ]
          },
          "metadata": {},
          "execution_count": 15
        },
        {
          "output_type": "display_data",
          "data": {
            "text/plain": [
              "<Figure size 432x432 with 3 Axes>"
            ],
            "image/png": "[encoded data removed]"
          },
          "metadata": {}
        }
      ],
      "source": [
        "sns.jointplot(x='Previous CTC',y='CTC',data=train)"
      ]
    },
    {
      "cell_type": "code",
      "execution_count": 16,
      "id": "2d44ad60",
      "metadata": {
        "id": "2d44ad60",
        "outputId": "460af79e-a922-4322-9ece-5739a776b63e",
        "colab": {
          "base_uri": "https://localhost:8080/",
          "height": 459
        }
      },
      "outputs": [
        {
          "output_type": "execute_result",
          "data": {
            "text/plain": [
              "<seaborn.axisgrid.JointGrid at 0x7fcc7c190890>"
            ]
          },
          "metadata": {},
          "execution_count": 16
        },
        {
          "output_type": "display_data",
          "data": {
            "text/plain": [
              "<Figure size 432x432 with 3 Axes>"
            ],
            "image/png": "[encoded data removed]"
          },
          "metadata": {}
        }
      ],
      "source": [
        "sns.jointplot(x='Graduation marks',y='CTC',data=train)"
      ]
    },
    {
      "cell_type": "code",
      "execution_count": 17,
      "id": "18647853",
      "metadata": {
        "id": "18647853",
        "outputId": "76b30813-576b-49fb-a4be-da9cd24431fe",
        "colab": {
          "base_uri": "https://localhost:8080/",
          "height": 459
        }
      },
      "outputs": [
        {
          "output_type": "execute_result",
          "data": {
            "text/plain": [
              "<seaborn.axisgrid.JointGrid at 0x7fcc7ea7fcd0>"
            ]
          },
          "metadata": {},
          "execution_count": 17
        },
        {
          "output_type": "display_data",
          "data": {
            "text/plain": [
              "<Figure size 432x432 with 3 Axes>"
            ],
            "image/png": "[encoded data removed]"
          },
          "metadata": {}
        }
      ],
      "source": [
        "sns.jointplot(x='Exp (Months)',y='CTC',data=train)"
      ]
    },
    {
      "cell_type": "markdown",
      "id": "18927620",
      "metadata": {
        "id": "18927620"
      },
      "source": [
        "# Observation\n",
        " All the features are some where important in predicting the CTC."
      ]
    },
    {
      "cell_type": "code",
      "execution_count": 18,
      "id": "3073a9a7",
      "metadata": {
        "colab": {
          "base_uri": "https://localhost:8080/"
        },
        "id": "3073a9a7",
        "outputId": "c854da30-a74b-4136-894d-d1090bdf95b1"
      },
      "outputs": [
        {
          "output_type": "stream",
          "name": "stdout",
          "text": [
            "Executive    1064\n",
            "Manager       274\n",
            "Name: Role, dtype: int64\n",
            "\n",
            "Tier 1    649\n",
            "Tier 2    364\n",
            "Tier 3    325\n",
            "Name: College, dtype: int64\n",
            "\n",
            "Metro        676\n",
            "Non-Metro    662\n",
            "Name: City type, dtype: int64\n"
          ]
        }
      ],
      "source": [
        "print(train['Role'].value_counts(), train['College'].value_counts(), train['City type'].value_counts(),sep=\"\\n\\n\")"
      ]
    },
    {
      "cell_type": "markdown",
      "id": "eee12d89",
      "metadata": {
        "id": "eee12d89"
      },
      "source": [
        "# Dummy Value Creation"
      ]
    },
    {
      "cell_type": "code",
      "execution_count": 19,
      "id": "5fdc0df4",
      "metadata": {
        "id": "5fdc0df4"
      },
      "outputs": [],
      "source": [
        "train = pd.get_dummies(train,columns=['College','Role','City type'])"
      ]
    },
    {
      "cell_type": "code",
      "execution_count": 20,
      "id": "deb02dbd",
      "metadata": {
        "colab": {
          "base_uri": "https://localhost:8080/",
          "height": 336
        },
        "id": "deb02dbd",
        "outputId": "9482b025-3cb1-469f-dca5-3383f49e901a"
      },
      "outputs": [
        {
          "output_type": "execute_result",
          "data": {
            "text/plain": [
              "       Previous CTC  Previous job changes  Graduation marks  Exp (Months)  \\\n",
              "S.No.                                                                       \n",
              "1             55523                     3                66            19   \n",
              "2             57081                     1                84            18   \n",
              "3             60347                     2                52            28   \n",
              "4             49010                     2                81            33   \n",
              "5             57879                     4                74            32   \n",
              "\n",
              "                CTC  College_Tier 1  College_Tier 2  College_Tier 3  \\\n",
              "S.No.                                                                 \n",
              "1      71406.576531               1               0               0   \n",
              "2      68005.870631               0               1               0   \n",
              "3      76764.020277               0               1               0   \n",
              "4      82092.386880               0               0               1   \n",
              "5      73878.097729               0               0               1   \n",
              "\n",
              "       Role_Executive  Role_Manager  City type_Metro  City type_Non-Metro  \n",
              "S.No.                                                                      \n",
              "1                   0             1                0                    1  \n",
              "2                   1             0                1                    0  \n",
              "3                   1             0                1                    0  \n",
              "4                   1             0                1                    0  \n",
              "5                   1             0                1                    0  "
            ],
            "text/html": [
              "\n",
              "  <div id=\"df-4ec3a105-769f-45a3-b423-5476ebe98ec6\">\n",
              "    <div class=\"colab-df-container\">\n",
              "      <div>\n",
              "<style scoped>\n",
              "    .dataframe tbody tr th:only-of-type {\n",
              "        vertical-align: middle;\n",
              "    }\n",
              "\n",
              "    .dataframe tbody tr th {\n",
              "        vertical-align: top;\n",
              "    }\n",
              "\n",
              "    .dataframe thead th {\n",
              "        text-align: right;\n",
              "    }\n",
              "</style>\n",
              "<table border=\"1\" class=\"dataframe\">\n",
              "  <thead>\n",
              "    <tr style=\"text-align: right;\">\n",
              "      <th></th>\n",
              "      <th>Previous CTC</th>\n",
              "      <th>Previous job changes</th>\n",
              "      <th>Graduation marks</th>\n",
              "      <th>Exp (Months)</th>\n",
              "      <th>CTC</th>\n",
              "      <th>College_Tier 1</th>\n",
              "      <th>College_Tier 2</th>\n",
              "      <th>College_Tier 3</th>\n",
              "      <th>Role_Executive</th>\n",
              "      <th>Role_Manager</th>\n",
              "      <th>City type_Metro</th>\n",
              "      <th>City type_Non-Metro</th>\n",
              "    </tr>\n",
              "    <tr>\n",
              "      <th>S.No.</th>\n",
              "      <th></th>\n",
              "      <th></th>\n",
              "      <th></th>\n",
              "      <th></th>\n",
              "      <th></th>\n",
              "      <th></th>\n",
              "      <th></th>\n",
              "      <th></th>\n",
              "      <th></th>\n",
              "      <th></th>\n",
              "      <th></th>\n",
              "      <th></th>\n",
              "    </tr>\n",
              "  </thead>\n",
              "  <tbody>\n",
              "    <tr>\n",
              "      <th>1</th>\n",
              "      <td>55523</td>\n",
              "      <td>3</td>\n",
              "      <td>66</td>\n",
              "      <td>19</td>\n",
              "      <td>71406.576531</td>\n",
              "      <td>1</td>\n",
              "      <td>0</td>\n",
              "      <td>0</td>\n",
              "      <td>0</td>\n",
              "      <td>1</td>\n",
              "      <td>0</td>\n",
              "      <td>1</td>\n",
              "    </tr>\n",
              "    <tr>\n",
              "      <th>2</th>\n",
              "      <td>57081</td>\n",
              "      <td>1</td>\n",
              "      <td>84</td>\n",
              "      <td>18</td>\n",
              "      <td>68005.870631</td>\n",
              "      <td>0</td>\n",
              "      <td>1</td>\n",
              "      <td>0</td>\n",
              "      <td>1</td>\n",
              "      <td>0</td>\n",
              "      <td>1</td>\n",
              "      <td>0</td>\n",
              "    </tr>\n",
              "    <tr>\n",
              "      <th>3</th>\n",
              "      <td>60347</td>\n",
              "      <td>2</td>\n",
              "      <td>52</td>\n",
              "      <td>28</td>\n",
              "      <td>76764.020277</td>\n",
              "      <td>0</td>\n",
              "      <td>1</td>\n",
              "      <td>0</td>\n",
              "      <td>1</td>\n",
              "      <td>0</td>\n",
              "      <td>1</td>\n",
              "      <td>0</td>\n",
              "    </tr>\n",
              "    <tr>\n",
              "      <th>4</th>\n",
              "      <td>49010</td>\n",
              "      <td>2</td>\n",
              "      <td>81</td>\n",
              "      <td>33</td>\n",
              "      <td>82092.386880</td>\n",
              "      <td>0</td>\n",
              "      <td>0</td>\n",
              "      <td>1</td>\n",
              "      <td>1</td>\n",
              "      <td>0</td>\n",
              "      <td>1</td>\n",
              "      <td>0</td>\n",
              "    </tr>\n",
              "    <tr>\n",
              "      <th>5</th>\n",
              "      <td>57879</td>\n",
              "      <td>4</td>\n",
              "      <td>74</td>\n",
              "      <td>32</td>\n",
              "      <td>73878.097729</td>\n",
              "      <td>0</td>\n",
              "      <td>0</td>\n",
              "      <td>1</td>\n",
              "      <td>1</td>\n",
              "      <td>0</td>\n",
              "      <td>1</td>\n",
              "      <td>0</td>\n",
              "    </tr>\n",
              "  </tbody>\n",
              "</table>\n",
              "</div>\n",
              "      <button class=\"colab-df-convert\" onclick=\"convertToInteractive('df-4ec3a105-769f-45a3-b423-5476ebe98ec6')\"\n",
              "              title=\"Convert this dataframe to an interactive table.\"\n",
              "              style=\"display:none;\">\n",
              "        \n",
              "  <svg xmlns=\"http://www.w3.org/2000/svg\" height=\"24px\"viewBox=\"0 0 24 24\"\n",
              "       width=\"24px\">\n",
              "    <path d=\"M0 0h24v24H0V0z\" fill=\"none\"/>\n",
              "    <path d=\"M18.56 5.44l.94 2.06.94-2.06 2.06-.94-2.06-.94-.94-2.06-.94 2.06-2.06.94zm-11 1L8.5 8.5l.94-2.06 2.06-.94-2.06-.94L8.5 2.5l-.94 2.06-2.06.94zm10 10l.94 2.06.94-2.06 2.06-.94-2.06-.94-.94-2.06-.94 2.06-2.06.94z\"/><path d=\"M17.41 7.96l-1.37-1.37c-.4-.4-.92-.59-1.43-.59-.52 0-1.04.2-1.43.59L10.3 9.45l-7.72 7.72c-.78.78-.78 2.05 0 2.83L4 21.41c.39.39.9.59 1.41.59.51 0 1.02-.2 1.41-.59l7.78-7.78 2.81-2.81c.8-.78.8-2.07 0-2.86zM5.41 20L4 18.59l7.72-7.72 1.47 1.35L5.41 20z\"/>\n",
              "  </svg>\n",
              "      </button>\n",
              "      \n",
              "  <style>\n",
              "    .colab-df-container {\n",
              "      display:flex;\n",
              "      flex-wrap:wrap;\n",
              "      gap: 12px;\n",
              "    }\n",
              "\n",
              "    .colab-df-convert {\n",
              "      background-color: #E8F0FE;\n",
              "      border: none;\n",
              "      border-radius: 50%;\n",
              "      cursor: pointer;\n",
              "      display: none;\n",
              "      fill: #1967D2;\n",
              "      height: 32px;\n",
              "      padding: 0 0 0 0;\n",
              "      width: 32px;\n",
              "    }\n",
              "\n",
              "    .colab-df-convert:hover {\n",
              "      background-color: #E2EBFA;\n",
              "      box-shadow: 0px 1px 2px rgba(60, 64, 67, 0.3), 0px 1px 3px 1px rgba(60, 64, 67, 0.15);\n",
              "      fill: #174EA6;\n",
              "    }\n",
              "\n",
              "    [theme=dark] .colab-df-convert {\n",
              "      background-color: #3B4455;\n",
              "      fill: #D2E3FC;\n",
              "    }\n",
              "\n",
              "    [theme=dark] .colab-df-convert:hover {\n",
              "      background-color: #434B5C;\n",
              "      box-shadow: 0px 1px 3px 1px rgba(0, 0, 0, 0.15);\n",
              "      filter: drop-shadow(0px 1px 2px rgba(0, 0, 0, 0.3));\n",
              "      fill: #FFFFFF;\n",
              "    }\n",
              "  </style>\n",
              "\n",
              "      <script>\n",
              "        const buttonEl =\n",
              "          document.querySelector('#df-4ec3a105-769f-45a3-b423-5476ebe98ec6 button.colab-df-convert');\n",
              "        buttonEl.style.display =\n",
              "          google.colab.kernel.accessAllowed ? 'block' : 'none';\n",
              "\n",
              "        async function convertToInteractive(key) {\n",
              "          const element = document.querySelector('#df-4ec3a105-769f-45a3-b423-5476ebe98ec6');\n",
              "          const dataTable =\n",
              "            await google.colab.kernel.invokeFunction('convertToInteractive',\n",
              "                                                     [key], {});\n",
              "          if (!dataTable) return;\n",
              "\n",
              "          const docLinkHtml = 'Like what you see? Visit the ' +\n",
              "            '<a target=\"_blank\" href=https://colab.research.google.com/notebooks/data_table.ipynb>data table notebook</a>'\n",
              "            + ' to learn more about interactive tables.';\n",
              "          element.innerHTML = '';\n",
              "          dataTable['output_type'] = 'display_data';\n",
              "          await google.colab.output.renderOutput(dataTable, element);\n",
              "          const docLink = document.createElement('div');\n",
              "          docLink.innerHTML = docLinkHtml;\n",
              "          element.appendChild(docLink);\n",
              "        }\n",
              "      </script>\n",
              "    </div>\n",
              "  </div>\n",
              "  "
            ]
          },
          "metadata": {},
          "execution_count": 20
        }
      ],
      "source": [
        "train.head()"
      ]
    },
    {
      "cell_type": "code",
      "execution_count": 21,
      "id": "f4d8e1bb",
      "metadata": {
        "id": "f4d8e1bb"
      },
      "outputs": [],
      "source": [
        "del train['College_Tier 3']\n",
        "del train['Role_Executive']\n",
        "del train['City type_Non-Metro']"
      ]
    },
    {
      "cell_type": "code",
      "execution_count": 22,
      "id": "9953933d",
      "metadata": {
        "colab": {
          "base_uri": "https://localhost:8080/",
          "height": 336
        },
        "id": "9953933d",
        "outputId": "76a6fead-c5df-475f-8409-7958a8ebbb45"
      },
      "outputs": [
        {
          "output_type": "execute_result",
          "data": {
            "text/plain": [
              "       Previous CTC  Previous job changes  Graduation marks  Exp (Months)  \\\n",
              "S.No.                                                                       \n",
              "1             55523                     3                66            19   \n",
              "2             57081                     1                84            18   \n",
              "3             60347                     2                52            28   \n",
              "4             49010                     2                81            33   \n",
              "5             57879                     4                74            32   \n",
              "\n",
              "                CTC  College_Tier 1  College_Tier 2  Role_Manager  \\\n",
              "S.No.                                                               \n",
              "1      71406.576531               1               0             1   \n",
              "2      68005.870631               0               1             0   \n",
              "3      76764.020277               0               1             0   \n",
              "4      82092.386880               0               0             0   \n",
              "5      73878.097729               0               0             0   \n",
              "\n",
              "       City type_Metro  \n",
              "S.No.                   \n",
              "1                    0  \n",
              "2                    1  \n",
              "3                    1  \n",
              "4                    1  \n",
              "5                    1  "
            ],
            "text/html": [
              "\n",
              "  <div id=\"df-76b722c1-7771-413e-bbb0-0cd4d8c5d2cf\">\n",
              "    <div class=\"colab-df-container\">\n",
              "      <div>\n",
              "<style scoped>\n",
              "    .dataframe tbody tr th:only-of-type {\n",
              "        vertical-align: middle;\n",
              "    }\n",
              "\n",
              "    .dataframe tbody tr th {\n",
              "        vertical-align: top;\n",
              "    }\n",
              "\n",
              "    .dataframe thead th {\n",
              "        text-align: right;\n",
              "    }\n",
              "</style>\n",
              "<table border=\"1\" class=\"dataframe\">\n",
              "  <thead>\n",
              "    <tr style=\"text-align: right;\">\n",
              "      <th></th>\n",
              "      <th>Previous CTC</th>\n",
              "      <th>Previous job changes</th>\n",
              "      <th>Graduation marks</th>\n",
              "      <th>Exp (Months)</th>\n",
              "      <th>CTC</th>\n",
              "      <th>College_Tier 1</th>\n",
              "      <th>College_Tier 2</th>\n",
              "      <th>Role_Manager</th>\n",
              "      <th>City type_Metro</th>\n",
              "    </tr>\n",
              "    <tr>\n",
              "      <th>S.No.</th>\n",
              "      <th></th>\n",
              "      <th></th>\n",
              "      <th></th>\n",
              "      <th></th>\n",
              "      <th></th>\n",
              "      <th></th>\n",
              "      <th></th>\n",
              "      <th></th>\n",
              "      <th></th>\n",
              "    </tr>\n",
              "  </thead>\n",
              "  <tbody>\n",
              "    <tr>\n",
              "      <th>1</th>\n",
              "      <td>55523</td>\n",
              "      <td>3</td>\n",
              "      <td>66</td>\n",
              "      <td>19</td>\n",
              "      <td>71406.576531</td>\n",
              "      <td>1</td>\n",
              "      <td>0</td>\n",
              "      <td>1</td>\n",
              "      <td>0</td>\n",
              "    </tr>\n",
              "    <tr>\n",
              "      <th>2</th>\n",
              "      <td>57081</td>\n",
              "      <td>1</td>\n",
              "      <td>84</td>\n",
              "      <td>18</td>\n",
              "      <td>68005.870631</td>\n",
              "      <td>0</td>\n",
              "      <td>1</td>\n",
              "      <td>0</td>\n",
              "      <td>1</td>\n",
              "    </tr>\n",
              "    <tr>\n",
              "      <th>3</th>\n",
              "      <td>60347</td>\n",
              "      <td>2</td>\n",
              "      <td>52</td>\n",
              "      <td>28</td>\n",
              "      <td>76764.020277</td>\n",
              "      <td>0</td>\n",
              "      <td>1</td>\n",
              "      <td>0</td>\n",
              "      <td>1</td>\n",
              "    </tr>\n",
              "    <tr>\n",
              "      <th>4</th>\n",
              "      <td>49010</td>\n",
              "      <td>2</td>\n",
              "      <td>81</td>\n",
              "      <td>33</td>\n",
              "      <td>82092.386880</td>\n",
              "      <td>0</td>\n",
              "      <td>0</td>\n",
              "      <td>0</td>\n",
              "      <td>1</td>\n",
              "    </tr>\n",
              "    <tr>\n",
              "      <th>5</th>\n",
              "      <td>57879</td>\n",
              "      <td>4</td>\n",
              "      <td>74</td>\n",
              "      <td>32</td>\n",
              "      <td>73878.097729</td>\n",
              "      <td>0</td>\n",
              "      <td>0</td>\n",
              "      <td>0</td>\n",
              "      <td>1</td>\n",
              "    </tr>\n",
              "  </tbody>\n",
              "</table>\n",
              "</div>\n",
              "      <button class=\"colab-df-convert\" onclick=\"convertToInteractive('df-76b722c1-7771-413e-bbb0-0cd4d8c5d2cf')\"\n",
              "              title=\"Convert this dataframe to an interactive table.\"\n",
              "              style=\"display:none;\">\n",
              "        \n",
              "  <svg xmlns=\"http://www.w3.org/2000/svg\" height=\"24px\"viewBox=\"0 0 24 24\"\n",
              "       width=\"24px\">\n",
              "    <path d=\"M0 0h24v24H0V0z\" fill=\"none\"/>\n",
              "    <path d=\"M18.56 5.44l.94 2.06.94-2.06 2.06-.94-2.06-.94-.94-2.06-.94 2.06-2.06.94zm-11 1L8.5 8.5l.94-2.06 2.06-.94-2.06-.94L8.5 2.5l-.94 2.06-2.06.94zm10 10l.94 2.06.94-2.06 2.06-.94-2.06-.94-.94-2.06-.94 2.06-2.06.94z\"/><path d=\"M17.41 7.96l-1.37-1.37c-.4-.4-.92-.59-1.43-.59-.52 0-1.04.2-1.43.59L10.3 9.45l-7.72 7.72c-.78.78-.78 2.05 0 2.83L4 21.41c.39.39.9.59 1.41.59.51 0 1.02-.2 1.41-.59l7.78-7.78 2.81-2.81c.8-.78.8-2.07 0-2.86zM5.41 20L4 18.59l7.72-7.72 1.47 1.35L5.41 20z\"/>\n",
              "  </svg>\n",
              "      </button>\n",
              "      \n",
              "  <style>\n",
              "    .colab-df-container {\n",
              "      display:flex;\n",
              "      flex-wrap:wrap;\n",
              "      gap: 12px;\n",
              "    }\n",
              "\n",
              "    .colab-df-convert {\n",
              "      background-color: #E8F0FE;\n",
              "      border: none;\n",
              "      border-radius: 50%;\n",
              "      cursor: pointer;\n",
              "      display: none;\n",
              "      fill: #1967D2;\n",
              "      height: 32px;\n",
              "      padding: 0 0 0 0;\n",
              "      width: 32px;\n",
              "    }\n",
              "\n",
              "    .colab-df-convert:hover {\n",
              "      background-color: #E2EBFA;\n",
              "      box-shadow: 0px 1px 2px rgba(60, 64, 67, 0.3), 0px 1px 3px 1px rgba(60, 64, 67, 0.15);\n",
              "      fill: #174EA6;\n",
              "    }\n",
              "\n",
              "    [theme=dark] .colab-df-convert {\n",
              "      background-color: #3B4455;\n",
              "      fill: #D2E3FC;\n",
              "    }\n",
              "\n",
              "    [theme=dark] .colab-df-convert:hover {\n",
              "      background-color: #434B5C;\n",
              "      box-shadow: 0px 1px 3px 1px rgba(0, 0, 0, 0.15);\n",
              "      filter: drop-shadow(0px 1px 2px rgba(0, 0, 0, 0.3));\n",
              "      fill: #FFFFFF;\n",
              "    }\n",
              "  </style>\n",
              "\n",
              "      <script>\n",
              "        const buttonEl =\n",
              "          document.querySelector('#df-76b722c1-7771-413e-bbb0-0cd4d8c5d2cf button.colab-df-convert');\n",
              "        buttonEl.style.display =\n",
              "          google.colab.kernel.accessAllowed ? 'block' : 'none';\n",
              "\n",
              "        async function convertToInteractive(key) {\n",
              "          const element = document.querySelector('#df-76b722c1-7771-413e-bbb0-0cd4d8c5d2cf');\n",
              "          const dataTable =\n",
              "            await google.colab.kernel.invokeFunction('convertToInteractive',\n",
              "                                                     [key], {});\n",
              "          if (!dataTable) return;\n",
              "\n",
              "          const docLinkHtml = 'Like what you see? Visit the ' +\n",
              "            '<a target=\"_blank\" href=https://colab.research.google.com/notebooks/data_table.ipynb>data table notebook</a>'\n",
              "            + ' to learn more about interactive tables.';\n",
              "          element.innerHTML = '';\n",
              "          dataTable['output_type'] = 'display_data';\n",
              "          await google.colab.output.renderOutput(dataTable, element);\n",
              "          const docLink = document.createElement('div');\n",
              "          docLink.innerHTML = docLinkHtml;\n",
              "          element.appendChild(docLink);\n",
              "        }\n",
              "      </script>\n",
              "    </div>\n",
              "  </div>\n",
              "  "
            ]
          },
          "metadata": {},
          "execution_count": 22
        }
      ],
      "source": [
        "train.head()"
      ]
    },
    {
      "cell_type": "markdown",
      "id": "15377fcd",
      "metadata": {
        "id": "15377fcd"
      },
      "source": [
        "# Observation\n",
        "Now we have prepared our train dataset for linear regression.\n",
        "Lets have a look at test dataset to check for features required in testing dataset are matching to training dataset or not."
      ]
    },
    {
      "cell_type": "code",
      "execution_count": 23,
      "id": "040fbf18",
      "metadata": {
        "id": "040fbf18"
      },
      "outputs": [],
      "source": [
        "test = pd.read_csv(\"/content/Test_data_file.csv\",header=0)"
      ]
    },
    {
      "cell_type": "code",
      "execution_count": 24,
      "id": "af158067",
      "metadata": {
        "colab": {
          "base_uri": "https://localhost:8080/",
          "height": 322
        },
        "id": "af158067",
        "outputId": "5243ae51-55bc-4bde-bcf0-22c9549ca8bc"
      },
      "outputs": [
        {
          "output_type": "execute_result",
          "data": {
            "text/plain": [
              "  College       Role  City type  College_T1  College_T2  Role_Manager  \\\n",
              "0  Tier 1    Manager  Non-Metro           1           0             1   \n",
              "1  Tier 2  Executive      Metro           0           1             0   \n",
              "2  Tier 2  Executive      Metro           0           1             0   \n",
              "3  Tier 3  Executive      Metro           0           0             0   \n",
              "4  Tier 3  Executive      Metro           0           0             0   \n",
              "\n",
              "   City_Metro  previous CTC  previous job changes  Graduation marks  Exp  \\\n",
              "0           0         55523                     3                66   19   \n",
              "1           1         57081                     1                84   18   \n",
              "2           1         60347                     2                52   28   \n",
              "3           1         49010                     2                81   33   \n",
              "4           1         57879                     4                74   32   \n",
              "\n",
              "    Actual CTC  Predicted CTC  \n",
              "0  71406.57653            NaN  \n",
              "1  68005.87063            NaN  \n",
              "2  76764.02028            NaN  \n",
              "3  82092.38688            NaN  \n",
              "4  73878.09773            NaN  "
            ],
            "text/html": [
              "\n",
              "  <div id=\"df-efe2b70d-c7f6-450b-afe4-c1dc2ccebb61\">\n",
              "    <div class=\"colab-df-container\">\n",
              "      <div>\n",
              "<style scoped>\n",
              "    .dataframe tbody tr th:only-of-type {\n",
              "        vertical-align: middle;\n",
              "    }\n",
              "\n",
              "    .dataframe tbody tr th {\n",
              "        vertical-align: top;\n",
              "    }\n",
              "\n",
              "    .dataframe thead th {\n",
              "        text-align: right;\n",
              "    }\n",
              "</style>\n",
              "<table border=\"1\" class=\"dataframe\">\n",
              "  <thead>\n",
              "    <tr style=\"text-align: right;\">\n",
              "      <th></th>\n",
              "      <th>College</th>\n",
              "      <th>Role</th>\n",
              "      <th>City type</th>\n",
              "      <th>College_T1</th>\n",
              "      <th>College_T2</th>\n",
              "      <th>Role_Manager</th>\n",
              "      <th>City_Metro</th>\n",
              "      <th>previous CTC</th>\n",
              "      <th>previous job changes</th>\n",
              "      <th>Graduation marks</th>\n",
              "      <th>Exp</th>\n",
              "      <th>Actual CTC</th>\n",
              "      <th>Predicted CTC</th>\n",
              "    </tr>\n",
              "  </thead>\n",
              "  <tbody>\n",
              "    <tr>\n",
              "      <th>0</th>\n",
              "      <td>Tier 1</td>\n",
              "      <td>Manager</td>\n",
              "      <td>Non-Metro</td>\n",
              "      <td>1</td>\n",
              "      <td>0</td>\n",
              "      <td>1</td>\n",
              "      <td>0</td>\n",
              "      <td>55523</td>\n",
              "      <td>3</td>\n",
              "      <td>66</td>\n",
              "      <td>19</td>\n",
              "      <td>71406.57653</td>\n",
              "      <td>NaN</td>\n",
              "    </tr>\n",
              "    <tr>\n",
              "      <th>1</th>\n",
              "      <td>Tier 2</td>\n",
              "      <td>Executive</td>\n",
              "      <td>Metro</td>\n",
              "      <td>0</td>\n",
              "      <td>1</td>\n",
              "      <td>0</td>\n",
              "      <td>1</td>\n",
              "      <td>57081</td>\n",
              "      <td>1</td>\n",
              "      <td>84</td>\n",
              "      <td>18</td>\n",
              "      <td>68005.87063</td>\n",
              "      <td>NaN</td>\n",
              "    </tr>\n",
              "    <tr>\n",
              "      <th>2</th>\n",
              "      <td>Tier 2</td>\n",
              "      <td>Executive</td>\n",
              "      <td>Metro</td>\n",
              "      <td>0</td>\n",
              "      <td>1</td>\n",
              "      <td>0</td>\n",
              "      <td>1</td>\n",
              "      <td>60347</td>\n",
              "      <td>2</td>\n",
              "      <td>52</td>\n",
              "      <td>28</td>\n",
              "      <td>76764.02028</td>\n",
              "      <td>NaN</td>\n",
              "    </tr>\n",
              "    <tr>\n",
              "      <th>3</th>\n",
              "      <td>Tier 3</td>\n",
              "      <td>Executive</td>\n",
              "      <td>Metro</td>\n",
              "      <td>0</td>\n",
              "      <td>0</td>\n",
              "      <td>0</td>\n",
              "      <td>1</td>\n",
              "      <td>49010</td>\n",
              "      <td>2</td>\n",
              "      <td>81</td>\n",
              "      <td>33</td>\n",
              "      <td>82092.38688</td>\n",
              "      <td>NaN</td>\n",
              "    </tr>\n",
              "    <tr>\n",
              "      <th>4</th>\n",
              "      <td>Tier 3</td>\n",
              "      <td>Executive</td>\n",
              "      <td>Metro</td>\n",
              "      <td>0</td>\n",
              "      <td>0</td>\n",
              "      <td>0</td>\n",
              "      <td>1</td>\n",
              "      <td>57879</td>\n",
              "      <td>4</td>\n",
              "      <td>74</td>\n",
              "      <td>32</td>\n",
              "      <td>73878.09773</td>\n",
              "      <td>NaN</td>\n",
              "    </tr>\n",
              "  </tbody>\n",
              "</table>\n",
              "</div>\n",
              "      <button class=\"colab-df-convert\" onclick=\"convertToInteractive('df-efe2b70d-c7f6-450b-afe4-c1dc2ccebb61')\"\n",
              "              title=\"Convert this dataframe to an interactive table.\"\n",
              "              style=\"display:none;\">\n",
              "        \n",
              "  <svg xmlns=\"http://www.w3.org/2000/svg\" height=\"24px\"viewBox=\"0 0 24 24\"\n",
              "       width=\"24px\">\n",
              "    <path d=\"M0 0h24v24H0V0z\" fill=\"none\"/>\n",
              "    <path d=\"M18.56 5.44l.94 2.06.94-2.06 2.06-.94-2.06-.94-.94-2.06-.94 2.06-2.06.94zm-11 1L8.5 8.5l.94-2.06 2.06-.94-2.06-.94L8.5 2.5l-.94 2.06-2.06.94zm10 10l.94 2.06.94-2.06 2.06-.94-2.06-.94-.94-2.06-.94 2.06-2.06.94z\"/><path d=\"M17.41 7.96l-1.37-1.37c-.4-.4-.92-.59-1.43-.59-.52 0-1.04.2-1.43.59L10.3 9.45l-7.72 7.72c-.78.78-.78 2.05 0 2.83L4 21.41c.39.39.9.59 1.41.59.51 0 1.02-.2 1.41-.59l7.78-7.78 2.81-2.81c.8-.78.8-2.07 0-2.86zM5.41 20L4 18.59l7.72-7.72 1.47 1.35L5.41 20z\"/>\n",
              "  </svg>\n",
              "      </button>\n",
              "      \n",
              "  <style>\n",
              "    .colab-df-container {\n",
              "      display:flex;\n",
              "      flex-wrap:wrap;\n",
              "      gap: 12px;\n",
              "    }\n",
              "\n",
              "    .colab-df-convert {\n",
              "      background-color: #E8F0FE;\n",
              "      border: none;\n",
              "      border-radius: 50%;\n",
              "      cursor: pointer;\n",
              "      display: none;\n",
              "      fill: #1967D2;\n",
              "      height: 32px;\n",
              "      padding: 0 0 0 0;\n",
              "      width: 32px;\n",
              "    }\n",
              "\n",
              "    .colab-df-convert:hover {\n",
              "      background-color: #E2EBFA;\n",
              "      box-shadow: 0px 1px 2px rgba(60, 64, 67, 0.3), 0px 1px 3px 1px rgba(60, 64, 67, 0.15);\n",
              "      fill: #174EA6;\n",
              "    }\n",
              "\n",
              "    [theme=dark] .colab-df-convert {\n",
              "      background-color: #3B4455;\n",
              "      fill: #D2E3FC;\n",
              "    }\n",
              "\n",
              "    [theme=dark] .colab-df-convert:hover {\n",
              "      background-color: #434B5C;\n",
              "      box-shadow: 0px 1px 3px 1px rgba(0, 0, 0, 0.15);\n",
              "      filter: drop-shadow(0px 1px 2px rgba(0, 0, 0, 0.3));\n",
              "      fill: #FFFFFF;\n",
              "    }\n",
              "  </style>\n",
              "\n",
              "      <script>\n",
              "        const buttonEl =\n",
              "          document.querySelector('#df-efe2b70d-c7f6-450b-afe4-c1dc2ccebb61 button.colab-df-convert');\n",
              "        buttonEl.style.display =\n",
              "          google.colab.kernel.accessAllowed ? 'block' : 'none';\n",
              "\n",
              "        async function convertToInteractive(key) {\n",
              "          const element = document.querySelector('#df-efe2b70d-c7f6-450b-afe4-c1dc2ccebb61');\n",
              "          const dataTable =\n",
              "            await google.colab.kernel.invokeFunction('convertToInteractive',\n",
              "                                                     [key], {});\n",
              "          if (!dataTable) return;\n",
              "\n",
              "          const docLinkHtml = 'Like what you see? Visit the ' +\n",
              "            '<a target=\"_blank\" href=https://colab.research.google.com/notebooks/data_table.ipynb>data table notebook</a>'\n",
              "            + ' to learn more about interactive tables.';\n",
              "          element.innerHTML = '';\n",
              "          dataTable['output_type'] = 'display_data';\n",
              "          await google.colab.output.renderOutput(dataTable, element);\n",
              "          const docLink = document.createElement('div');\n",
              "          docLink.innerHTML = docLinkHtml;\n",
              "          element.appendChild(docLink);\n",
              "        }\n",
              "      </script>\n",
              "    </div>\n",
              "  </div>\n",
              "  "
            ]
          },
          "metadata": {},
          "execution_count": 24
        }
      ],
      "source": [
        "test.head()"
      ]
    },
    {
      "cell_type": "markdown",
      "id": "5defdcb5",
      "metadata": {
        "id": "5defdcb5"
      },
      "source": [
        "# Observation\n",
        " Now we have noticed that Colllege and Role is not required in test dataset.\n",
        " \n",
        " Also feature names are different in training and testing dataset we have to correct it as well to get a better idea of data.\n",
        " \n",
        " Some features of training data set is also not required we will remove them as well."
      ]
    },
    {
      "cell_type": "code",
      "execution_count": 25,
      "id": "726d74f6",
      "metadata": {
        "id": "726d74f6"
      },
      "outputs": [],
      "source": [
        "del test['Role']\n",
        "del test['City type']\n",
        "del test['College']"
      ]
    },
    {
      "cell_type": "code",
      "execution_count": 26,
      "id": "0a106624",
      "metadata": {
        "colab": {
          "base_uri": "https://localhost:8080/",
          "height": 305
        },
        "id": "0a106624",
        "outputId": "4d9d9fa9-0cfc-4305-d75b-cfe9c57a9e70"
      },
      "outputs": [
        {
          "output_type": "execute_result",
          "data": {
            "text/plain": [
              "   College_T1  College_T2  Role_Manager  City_Metro  previous CTC  \\\n",
              "0           1           0             1           0         55523   \n",
              "1           0           1             0           1         57081   \n",
              "2           0           1             0           1         60347   \n",
              "3           0           0             0           1         49010   \n",
              "4           0           0             0           1         57879   \n",
              "\n",
              "   previous job changes  Graduation marks  Exp   Actual CTC  Predicted CTC  \n",
              "0                     3                66   19  71406.57653            NaN  \n",
              "1                     1                84   18  68005.87063            NaN  \n",
              "2                     2                52   28  76764.02028            NaN  \n",
              "3                     2                81   33  82092.38688            NaN  \n",
              "4                     4                74   32  73878.09773            NaN  "
            ],
            "text/html": [
              "\n",
              "  <div id=\"df-ec8ef317-4c0d-4486-9c7f-a9f82872aab8\">\n",
              "    <div class=\"colab-df-container\">\n",
              "      <div>\n",
              "<style scoped>\n",
              "    .dataframe tbody tr th:only-of-type {\n",
              "        vertical-align: middle;\n",
              "    }\n",
              "\n",
              "    .dataframe tbody tr th {\n",
              "        vertical-align: top;\n",
              "    }\n",
              "\n",
              "    .dataframe thead th {\n",
              "        text-align: right;\n",
              "    }\n",
              "</style>\n",
              "<table border=\"1\" class=\"dataframe\">\n",
              "  <thead>\n",
              "    <tr style=\"text-align: right;\">\n",
              "      <th></th>\n",
              "      <th>College_T1</th>\n",
              "      <th>College_T2</th>\n",
              "      <th>Role_Manager</th>\n",
              "      <th>City_Metro</th>\n",
              "      <th>previous CTC</th>\n",
              "      <th>previous job changes</th>\n",
              "      <th>Graduation marks</th>\n",
              "      <th>Exp</th>\n",
              "      <th>Actual CTC</th>\n",
              "      <th>Predicted CTC</th>\n",
              "    </tr>\n",
              "  </thead>\n",
              "  <tbody>\n",
              "    <tr>\n",
              "      <th>0</th>\n",
              "      <td>1</td>\n",
              "      <td>0</td>\n",
              "      <td>1</td>\n",
              "      <td>0</td>\n",
              "      <td>55523</td>\n",
              "      <td>3</td>\n",
              "      <td>66</td>\n",
              "      <td>19</td>\n",
              "      <td>71406.57653</td>\n",
              "      <td>NaN</td>\n",
              "    </tr>\n",
              "    <tr>\n",
              "      <th>1</th>\n",
              "      <td>0</td>\n",
              "      <td>1</td>\n",
              "      <td>0</td>\n",
              "      <td>1</td>\n",
              "      <td>57081</td>\n",
              "      <td>1</td>\n",
              "      <td>84</td>\n",
              "      <td>18</td>\n",
              "      <td>68005.87063</td>\n",
              "      <td>NaN</td>\n",
              "    </tr>\n",
              "    <tr>\n",
              "      <th>2</th>\n",
              "      <td>0</td>\n",
              "      <td>1</td>\n",
              "      <td>0</td>\n",
              "      <td>1</td>\n",
              "      <td>60347</td>\n",
              "      <td>2</td>\n",
              "      <td>52</td>\n",
              "      <td>28</td>\n",
              "      <td>76764.02028</td>\n",
              "      <td>NaN</td>\n",
              "    </tr>\n",
              "    <tr>\n",
              "      <th>3</th>\n",
              "      <td>0</td>\n",
              "      <td>0</td>\n",
              "      <td>0</td>\n",
              "      <td>1</td>\n",
              "      <td>49010</td>\n",
              "      <td>2</td>\n",
              "      <td>81</td>\n",
              "      <td>33</td>\n",
              "      <td>82092.38688</td>\n",
              "      <td>NaN</td>\n",
              "    </tr>\n",
              "    <tr>\n",
              "      <th>4</th>\n",
              "      <td>0</td>\n",
              "      <td>0</td>\n",
              "      <td>0</td>\n",
              "      <td>1</td>\n",
              "      <td>57879</td>\n",
              "      <td>4</td>\n",
              "      <td>74</td>\n",
              "      <td>32</td>\n",
              "      <td>73878.09773</td>\n",
              "      <td>NaN</td>\n",
              "    </tr>\n",
              "  </tbody>\n",
              "</table>\n",
              "</div>\n",
              "      <button class=\"colab-df-convert\" onclick=\"convertToInteractive('df-ec8ef317-4c0d-4486-9c7f-a9f82872aab8')\"\n",
              "              title=\"Convert this dataframe to an interactive table.\"\n",
              "              style=\"display:none;\">\n",
              "        \n",
              "  <svg xmlns=\"http://www.w3.org/2000/svg\" height=\"24px\"viewBox=\"0 0 24 24\"\n",
              "       width=\"24px\">\n",
              "    <path d=\"M0 0h24v24H0V0z\" fill=\"none\"/>\n",
              "    <path d=\"M18.56 5.44l.94 2.06.94-2.06 2.06-.94-2.06-.94-.94-2.06-.94 2.06-2.06.94zm-11 1L8.5 8.5l.94-2.06 2.06-.94-2.06-.94L8.5 2.5l-.94 2.06-2.06.94zm10 10l.94 2.06.94-2.06 2.06-.94-2.06-.94-.94-2.06-.94 2.06-2.06.94z\"/><path d=\"M17.41 7.96l-1.37-1.37c-.4-.4-.92-.59-1.43-.59-.52 0-1.04.2-1.43.59L10.3 9.45l-7.72 7.72c-.78.78-.78 2.05 0 2.83L4 21.41c.39.39.9.59 1.41.59.51 0 1.02-.2 1.41-.59l7.78-7.78 2.81-2.81c.8-.78.8-2.07 0-2.86zM5.41 20L4 18.59l7.72-7.72 1.47 1.35L5.41 20z\"/>\n",
              "  </svg>\n",
              "      </button>\n",
              "      \n",
              "  <style>\n",
              "    .colab-df-container {\n",
              "      display:flex;\n",
              "      flex-wrap:wrap;\n",
              "      gap: 12px;\n",
              "    }\n",
              "\n",
              "    .colab-df-convert {\n",
              "      background-color: #E8F0FE;\n",
              "      border: none;\n",
              "      border-radius: 50%;\n",
              "      cursor: pointer;\n",
              "      display: none;\n",
              "      fill: #1967D2;\n",
              "      height: 32px;\n",
              "      padding: 0 0 0 0;\n",
              "      width: 32px;\n",
              "    }\n",
              "\n",
              "    .colab-df-convert:hover {\n",
              "      background-color: #E2EBFA;\n",
              "      box-shadow: 0px 1px 2px rgba(60, 64, 67, 0.3), 0px 1px 3px 1px rgba(60, 64, 67, 0.15);\n",
              "      fill: #174EA6;\n",
              "    }\n",
              "\n",
              "    [theme=dark] .colab-df-convert {\n",
              "      background-color: #3B4455;\n",
              "      fill: #D2E3FC;\n",
              "    }\n",
              "\n",
              "    [theme=dark] .colab-df-convert:hover {\n",
              "      background-color: #434B5C;\n",
              "      box-shadow: 0px 1px 3px 1px rgba(0, 0, 0, 0.15);\n",
              "      filter: drop-shadow(0px 1px 2px rgba(0, 0, 0, 0.3));\n",
              "      fill: #FFFFFF;\n",
              "    }\n",
              "  </style>\n",
              "\n",
              "      <script>\n",
              "        const buttonEl =\n",
              "          document.querySelector('#df-ec8ef317-4c0d-4486-9c7f-a9f82872aab8 button.colab-df-convert');\n",
              "        buttonEl.style.display =\n",
              "          google.colab.kernel.accessAllowed ? 'block' : 'none';\n",
              "\n",
              "        async function convertToInteractive(key) {\n",
              "          const element = document.querySelector('#df-ec8ef317-4c0d-4486-9c7f-a9f82872aab8');\n",
              "          const dataTable =\n",
              "            await google.colab.kernel.invokeFunction('convertToInteractive',\n",
              "                                                     [key], {});\n",
              "          if (!dataTable) return;\n",
              "\n",
              "          const docLinkHtml = 'Like what you see? Visit the ' +\n",
              "            '<a target=\"_blank\" href=https://colab.research.google.com/notebooks/data_table.ipynb>data table notebook</a>'\n",
              "            + ' to learn more about interactive tables.';\n",
              "          element.innerHTML = '';\n",
              "          dataTable['output_type'] = 'display_data';\n",
              "          await google.colab.output.renderOutput(dataTable, element);\n",
              "          const docLink = document.createElement('div');\n",
              "          docLink.innerHTML = docLinkHtml;\n",
              "          element.appendChild(docLink);\n",
              "        }\n",
              "      </script>\n",
              "    </div>\n",
              "  </div>\n",
              "  "
            ]
          },
          "metadata": {},
          "execution_count": 26
        }
      ],
      "source": [
        "test.head()"
      ]
    },
    {
      "cell_type": "code",
      "execution_count": 27,
      "id": "9c8d59a0",
      "metadata": {
        "id": "9c8d59a0"
      },
      "outputs": [],
      "source": [
        "train.rename(columns={'College_Tier 1': 'College_T1','College_Tier 2': 'College_T2','City type_Metro':'City_Metro',\n",
        "                   'Previous CTC':'previous CTC','Previous job changes':'previous job changes',\n",
        "                  'Exp (Months)':'Exp','CTC':'Actual CTC'},inplace=True)"
      ]
    },
    {
      "cell_type": "code",
      "execution_count": 28,
      "id": "c0583dc7",
      "metadata": {
        "colab": {
          "base_uri": "https://localhost:8080/",
          "height": 336
        },
        "id": "c0583dc7",
        "outputId": "715f3ef5-19e4-488d-dde8-4c91d35aa908"
      },
      "outputs": [
        {
          "output_type": "execute_result",
          "data": {
            "text/plain": [
              "       previous CTC  previous job changes  Graduation marks  Exp  \\\n",
              "S.No.                                                              \n",
              "1             55523                     3                66   19   \n",
              "2             57081                     1                84   18   \n",
              "3             60347                     2                52   28   \n",
              "4             49010                     2                81   33   \n",
              "5             57879                     4                74   32   \n",
              "\n",
              "         Actual CTC  College_T1  College_T2  Role_Manager  City_Metro  \n",
              "S.No.                                                                  \n",
              "1      71406.576531           1           0             1           0  \n",
              "2      68005.870631           0           1             0           1  \n",
              "3      76764.020277           0           1             0           1  \n",
              "4      82092.386880           0           0             0           1  \n",
              "5      73878.097729           0           0             0           1  "
            ],
            "text/html": [
              "\n",
              "  <div id=\"df-b4fe385f-8112-44f5-bd99-4a3376ff6ab5\">\n",
              "    <div class=\"colab-df-container\">\n",
              "      <div>\n",
              "<style scoped>\n",
              "    .dataframe tbody tr th:only-of-type {\n",
              "        vertical-align: middle;\n",
              "    }\n",
              "\n",
              "    .dataframe tbody tr th {\n",
              "        vertical-align: top;\n",
              "    }\n",
              "\n",
              "    .dataframe thead th {\n",
              "        text-align: right;\n",
              "    }\n",
              "</style>\n",
              "<table border=\"1\" class=\"dataframe\">\n",
              "  <thead>\n",
              "    <tr style=\"text-align: right;\">\n",
              "      <th></th>\n",
              "      <th>previous CTC</th>\n",
              "      <th>previous job changes</th>\n",
              "      <th>Graduation marks</th>\n",
              "      <th>Exp</th>\n",
              "      <th>Actual CTC</th>\n",
              "      <th>College_T1</th>\n",
              "      <th>College_T2</th>\n",
              "      <th>Role_Manager</th>\n",
              "      <th>City_Metro</th>\n",
              "    </tr>\n",
              "    <tr>\n",
              "      <th>S.No.</th>\n",
              "      <th></th>\n",
              "      <th></th>\n",
              "      <th></th>\n",
              "      <th></th>\n",
              "      <th></th>\n",
              "      <th></th>\n",
              "      <th></th>\n",
              "      <th></th>\n",
              "      <th></th>\n",
              "    </tr>\n",
              "  </thead>\n",
              "  <tbody>\n",
              "    <tr>\n",
              "      <th>1</th>\n",
              "      <td>55523</td>\n",
              "      <td>3</td>\n",
              "      <td>66</td>\n",
              "      <td>19</td>\n",
              "      <td>71406.576531</td>\n",
              "      <td>1</td>\n",
              "      <td>0</td>\n",
              "      <td>1</td>\n",
              "      <td>0</td>\n",
              "    </tr>\n",
              "    <tr>\n",
              "      <th>2</th>\n",
              "      <td>57081</td>\n",
              "      <td>1</td>\n",
              "      <td>84</td>\n",
              "      <td>18</td>\n",
              "      <td>68005.870631</td>\n",
              "      <td>0</td>\n",
              "      <td>1</td>\n",
              "      <td>0</td>\n",
              "      <td>1</td>\n",
              "    </tr>\n",
              "    <tr>\n",
              "      <th>3</th>\n",
              "      <td>60347</td>\n",
              "      <td>2</td>\n",
              "      <td>52</td>\n",
              "      <td>28</td>\n",
              "      <td>76764.020277</td>\n",
              "      <td>0</td>\n",
              "      <td>1</td>\n",
              "      <td>0</td>\n",
              "      <td>1</td>\n",
              "    </tr>\n",
              "    <tr>\n",
              "      <th>4</th>\n",
              "      <td>49010</td>\n",
              "      <td>2</td>\n",
              "      <td>81</td>\n",
              "      <td>33</td>\n",
              "      <td>82092.386880</td>\n",
              "      <td>0</td>\n",
              "      <td>0</td>\n",
              "      <td>0</td>\n",
              "      <td>1</td>\n",
              "    </tr>\n",
              "    <tr>\n",
              "      <th>5</th>\n",
              "      <td>57879</td>\n",
              "      <td>4</td>\n",
              "      <td>74</td>\n",
              "      <td>32</td>\n",
              "      <td>73878.097729</td>\n",
              "      <td>0</td>\n",
              "      <td>0</td>\n",
              "      <td>0</td>\n",
              "      <td>1</td>\n",
              "    </tr>\n",
              "  </tbody>\n",
              "</table>\n",
              "</div>\n",
              "      <button class=\"colab-df-convert\" onclick=\"convertToInteractive('df-b4fe385f-8112-44f5-bd99-4a3376ff6ab5')\"\n",
              "              title=\"Convert this dataframe to an interactive table.\"\n",
              "              style=\"display:none;\">\n",
              "        \n",
              "  <svg xmlns=\"http://www.w3.org/2000/svg\" height=\"24px\"viewBox=\"0 0 24 24\"\n",
              "       width=\"24px\">\n",
              "    <path d=\"M0 0h24v24H0V0z\" fill=\"none\"/>\n",
              "    <path d=\"M18.56 5.44l.94 2.06.94-2.06 2.06-.94-2.06-.94-.94-2.06-.94 2.06-2.06.94zm-11 1L8.5 8.5l.94-2.06 2.06-.94-2.06-.94L8.5 2.5l-.94 2.06-2.06.94zm10 10l.94 2.06.94-2.06 2.06-.94-2.06-.94-.94-2.06-.94 2.06-2.06.94z\"/><path d=\"M17.41 7.96l-1.37-1.37c-.4-.4-.92-.59-1.43-.59-.52 0-1.04.2-1.43.59L10.3 9.45l-7.72 7.72c-.78.78-.78 2.05 0 2.83L4 21.41c.39.39.9.59 1.41.59.51 0 1.02-.2 1.41-.59l7.78-7.78 2.81-2.81c.8-.78.8-2.07 0-2.86zM5.41 20L4 18.59l7.72-7.72 1.47 1.35L5.41 20z\"/>\n",
              "  </svg>\n",
              "      </button>\n",
              "      \n",
              "  <style>\n",
              "    .colab-df-container {\n",
              "      display:flex;\n",
              "      flex-wrap:wrap;\n",
              "      gap: 12px;\n",
              "    }\n",
              "\n",
              "    .colab-df-convert {\n",
              "      background-color: #E8F0FE;\n",
              "      border: none;\n",
              "      border-radius: 50%;\n",
              "      cursor: pointer;\n",
              "      display: none;\n",
              "      fill: #1967D2;\n",
              "      height: 32px;\n",
              "      padding: 0 0 0 0;\n",
              "      width: 32px;\n",
              "    }\n",
              "\n",
              "    .colab-df-convert:hover {\n",
              "      background-color: #E2EBFA;\n",
              "      box-shadow: 0px 1px 2px rgba(60, 64, 67, 0.3), 0px 1px 3px 1px rgba(60, 64, 67, 0.15);\n",
              "      fill: #174EA6;\n",
              "    }\n",
              "\n",
              "    [theme=dark] .colab-df-convert {\n",
              "      background-color: #3B4455;\n",
              "      fill: #D2E3FC;\n",
              "    }\n",
              "\n",
              "    [theme=dark] .colab-df-convert:hover {\n",
              "      background-color: #434B5C;\n",
              "      box-shadow: 0px 1px 3px 1px rgba(0, 0, 0, 0.15);\n",
              "      filter: drop-shadow(0px 1px 2px rgba(0, 0, 0, 0.3));\n",
              "      fill: #FFFFFF;\n",
              "    }\n",
              "  </style>\n",
              "\n",
              "      <script>\n",
              "        const buttonEl =\n",
              "          document.querySelector('#df-b4fe385f-8112-44f5-bd99-4a3376ff6ab5 button.colab-df-convert');\n",
              "        buttonEl.style.display =\n",
              "          google.colab.kernel.accessAllowed ? 'block' : 'none';\n",
              "\n",
              "        async function convertToInteractive(key) {\n",
              "          const element = document.querySelector('#df-b4fe385f-8112-44f5-bd99-4a3376ff6ab5');\n",
              "          const dataTable =\n",
              "            await google.colab.kernel.invokeFunction('convertToInteractive',\n",
              "                                                     [key], {});\n",
              "          if (!dataTable) return;\n",
              "\n",
              "          const docLinkHtml = 'Like what you see? Visit the ' +\n",
              "            '<a target=\"_blank\" href=https://colab.research.google.com/notebooks/data_table.ipynb>data table notebook</a>'\n",
              "            + ' to learn more about interactive tables.';\n",
              "          element.innerHTML = '';\n",
              "          dataTable['output_type'] = 'display_data';\n",
              "          await google.colab.output.renderOutput(dataTable, element);\n",
              "          const docLink = document.createElement('div');\n",
              "          docLink.innerHTML = docLinkHtml;\n",
              "          element.appendChild(docLink);\n",
              "        }\n",
              "      </script>\n",
              "    </div>\n",
              "  </div>\n",
              "  "
            ]
          },
          "metadata": {},
          "execution_count": 28
        }
      ],
      "source": [
        "train.head()"
      ]
    },
    {
      "cell_type": "code",
      "execution_count": 29,
      "id": "46ae5a4c",
      "metadata": {
        "scrolled": true,
        "colab": {
          "base_uri": "https://localhost:8080/",
          "height": 305
        },
        "id": "46ae5a4c",
        "outputId": "03c75aea-12f7-4ca6-b58a-39b80f5bd147"
      },
      "outputs": [
        {
          "output_type": "execute_result",
          "data": {
            "text/plain": [
              "   College_T1  College_T2  Role_Manager  City_Metro  previous CTC  \\\n",
              "0           1           0             1           0         55523   \n",
              "1           0           1             0           1         57081   \n",
              "2           0           1             0           1         60347   \n",
              "3           0           0             0           1         49010   \n",
              "4           0           0             0           1         57879   \n",
              "\n",
              "   previous job changes  Graduation marks  Exp   Actual CTC  Predicted CTC  \n",
              "0                     3                66   19  71406.57653            NaN  \n",
              "1                     1                84   18  68005.87063            NaN  \n",
              "2                     2                52   28  76764.02028            NaN  \n",
              "3                     2                81   33  82092.38688            NaN  \n",
              "4                     4                74   32  73878.09773            NaN  "
            ],
            "text/html": [
              "\n",
              "  <div id=\"df-aca3ee60-9a8e-404f-9239-fd68317c66b0\">\n",
              "    <div class=\"colab-df-container\">\n",
              "      <div>\n",
              "<style scoped>\n",
              "    .dataframe tbody tr th:only-of-type {\n",
              "        vertical-align: middle;\n",
              "    }\n",
              "\n",
              "    .dataframe tbody tr th {\n",
              "        vertical-align: top;\n",
              "    }\n",
              "\n",
              "    .dataframe thead th {\n",
              "        text-align: right;\n",
              "    }\n",
              "</style>\n",
              "<table border=\"1\" class=\"dataframe\">\n",
              "  <thead>\n",
              "    <tr style=\"text-align: right;\">\n",
              "      <th></th>\n",
              "      <th>College_T1</th>\n",
              "      <th>College_T2</th>\n",
              "      <th>Role_Manager</th>\n",
              "      <th>City_Metro</th>\n",
              "      <th>previous CTC</th>\n",
              "      <th>previous job changes</th>\n",
              "      <th>Graduation marks</th>\n",
              "      <th>Exp</th>\n",
              "      <th>Actual CTC</th>\n",
              "      <th>Predicted CTC</th>\n",
              "    </tr>\n",
              "  </thead>\n",
              "  <tbody>\n",
              "    <tr>\n",
              "      <th>0</th>\n",
              "      <td>1</td>\n",
              "      <td>0</td>\n",
              "      <td>1</td>\n",
              "      <td>0</td>\n",
              "      <td>55523</td>\n",
              "      <td>3</td>\n",
              "      <td>66</td>\n",
              "      <td>19</td>\n",
              "      <td>71406.57653</td>\n",
              "      <td>NaN</td>\n",
              "    </tr>\n",
              "    <tr>\n",
              "      <th>1</th>\n",
              "      <td>0</td>\n",
              "      <td>1</td>\n",
              "      <td>0</td>\n",
              "      <td>1</td>\n",
              "      <td>57081</td>\n",
              "      <td>1</td>\n",
              "      <td>84</td>\n",
              "      <td>18</td>\n",
              "      <td>68005.87063</td>\n",
              "      <td>NaN</td>\n",
              "    </tr>\n",
              "    <tr>\n",
              "      <th>2</th>\n",
              "      <td>0</td>\n",
              "      <td>1</td>\n",
              "      <td>0</td>\n",
              "      <td>1</td>\n",
              "      <td>60347</td>\n",
              "      <td>2</td>\n",
              "      <td>52</td>\n",
              "      <td>28</td>\n",
              "      <td>76764.02028</td>\n",
              "      <td>NaN</td>\n",
              "    </tr>\n",
              "    <tr>\n",
              "      <th>3</th>\n",
              "      <td>0</td>\n",
              "      <td>0</td>\n",
              "      <td>0</td>\n",
              "      <td>1</td>\n",
              "      <td>49010</td>\n",
              "      <td>2</td>\n",
              "      <td>81</td>\n",
              "      <td>33</td>\n",
              "      <td>82092.38688</td>\n",
              "      <td>NaN</td>\n",
              "    </tr>\n",
              "    <tr>\n",
              "      <th>4</th>\n",
              "      <td>0</td>\n",
              "      <td>0</td>\n",
              "      <td>0</td>\n",
              "      <td>1</td>\n",
              "      <td>57879</td>\n",
              "      <td>4</td>\n",
              "      <td>74</td>\n",
              "      <td>32</td>\n",
              "      <td>73878.09773</td>\n",
              "      <td>NaN</td>\n",
              "    </tr>\n",
              "  </tbody>\n",
              "</table>\n",
              "</div>\n",
              "      <button class=\"colab-df-convert\" onclick=\"convertToInteractive('df-aca3ee60-9a8e-404f-9239-fd68317c66b0')\"\n",
              "              title=\"Convert this dataframe to an interactive table.\"\n",
              "              style=\"display:none;\">\n",
              "        \n",
              "  <svg xmlns=\"http://www.w3.org/2000/svg\" height=\"24px\"viewBox=\"0 0 24 24\"\n",
              "       width=\"24px\">\n",
              "    <path d=\"M0 0h24v24H0V0z\" fill=\"none\"/>\n",
              "    <path d=\"M18.56 5.44l.94 2.06.94-2.06 2.06-.94-2.06-.94-.94-2.06-.94 2.06-2.06.94zm-11 1L8.5 8.5l.94-2.06 2.06-.94-2.06-.94L8.5 2.5l-.94 2.06-2.06.94zm10 10l.94 2.06.94-2.06 2.06-.94-2.06-.94-.94-2.06-.94 2.06-2.06.94z\"/><path d=\"M17.41 7.96l-1.37-1.37c-.4-.4-.92-.59-1.43-.59-.52 0-1.04.2-1.43.59L10.3 9.45l-7.72 7.72c-.78.78-.78 2.05 0 2.83L4 21.41c.39.39.9.59 1.41.59.51 0 1.02-.2 1.41-.59l7.78-7.78 2.81-2.81c.8-.78.8-2.07 0-2.86zM5.41 20L4 18.59l7.72-7.72 1.47 1.35L5.41 20z\"/>\n",
              "  </svg>\n",
              "      </button>\n",
              "      \n",
              "  <style>\n",
              "    .colab-df-container {\n",
              "      display:flex;\n",
              "      flex-wrap:wrap;\n",
              "      gap: 12px;\n",
              "    }\n",
              "\n",
              "    .colab-df-convert {\n",
              "      background-color: #E8F0FE;\n",
              "      border: none;\n",
              "      border-radius: 50%;\n",
              "      cursor: pointer;\n",
              "      display: none;\n",
              "      fill: #1967D2;\n",
              "      height: 32px;\n",
              "      padding: 0 0 0 0;\n",
              "      width: 32px;\n",
              "    }\n",
              "\n",
              "    .colab-df-convert:hover {\n",
              "      background-color: #E2EBFA;\n",
              "      box-shadow: 0px 1px 2px rgba(60, 64, 67, 0.3), 0px 1px 3px 1px rgba(60, 64, 67, 0.15);\n",
              "      fill: #174EA6;\n",
              "    }\n",
              "\n",
              "    [theme=dark] .colab-df-convert {\n",
              "      background-color: #3B4455;\n",
              "      fill: #D2E3FC;\n",
              "    }\n",
              "\n",
              "    [theme=dark] .colab-df-convert:hover {\n",
              "      background-color: #434B5C;\n",
              "      box-shadow: 0px 1px 3px 1px rgba(0, 0, 0, 0.15);\n",
              "      filter: drop-shadow(0px 1px 2px rgba(0, 0, 0, 0.3));\n",
              "      fill: #FFFFFF;\n",
              "    }\n",
              "  </style>\n",
              "\n",
              "      <script>\n",
              "        const buttonEl =\n",
              "          document.querySelector('#df-aca3ee60-9a8e-404f-9239-fd68317c66b0 button.colab-df-convert');\n",
              "        buttonEl.style.display =\n",
              "          google.colab.kernel.accessAllowed ? 'block' : 'none';\n",
              "\n",
              "        async function convertToInteractive(key) {\n",
              "          const element = document.querySelector('#df-aca3ee60-9a8e-404f-9239-fd68317c66b0');\n",
              "          const dataTable =\n",
              "            await google.colab.kernel.invokeFunction('convertToInteractive',\n",
              "                                                     [key], {});\n",
              "          if (!dataTable) return;\n",
              "\n",
              "          const docLinkHtml = 'Like what you see? Visit the ' +\n",
              "            '<a target=\"_blank\" href=https://colab.research.google.com/notebooks/data_table.ipynb>data table notebook</a>'\n",
              "            + ' to learn more about interactive tables.';\n",
              "          element.innerHTML = '';\n",
              "          dataTable['output_type'] = 'display_data';\n",
              "          await google.colab.output.renderOutput(dataTable, element);\n",
              "          const docLink = document.createElement('div');\n",
              "          docLink.innerHTML = docLinkHtml;\n",
              "          element.appendChild(docLink);\n",
              "        }\n",
              "      </script>\n",
              "    </div>\n",
              "  </div>\n",
              "  "
            ]
          },
          "metadata": {},
          "execution_count": 29
        }
      ],
      "source": [
        "test.head()"
      ]
    },
    {
      "cell_type": "code",
      "execution_count": 30,
      "id": "92b5d5bb",
      "metadata": {
        "id": "92b5d5bb"
      },
      "outputs": [],
      "source": [
        "Y_test = test['Actual CTC']"
      ]
    },
    {
      "cell_type": "code",
      "execution_count": 31,
      "id": "b9cf66d9",
      "metadata": {
        "id": "b9cf66d9"
      },
      "outputs": [],
      "source": [
        "test = test[['previous CTC','previous job changes','Graduation marks','Exp','College_T1','College_T2','Role_Manager','City_Metro']]"
      ]
    },
    {
      "cell_type": "markdown",
      "id": "14b18458",
      "metadata": {
        "id": "14b18458"
      },
      "source": [
        "## Now that we are done with data preprocessing we will now move to finding the correlation in training dataset with the required feature and other"
      ]
    },
    {
      "cell_type": "code",
      "execution_count": 32,
      "id": "9ac4a849",
      "metadata": {
        "id": "9ac4a849",
        "outputId": "c10aff28-6d2d-4a55-a18c-52e5b65edc75",
        "colab": {
          "base_uri": "https://localhost:8080/",
          "height": 114
        }
      },
      "outputs": [
        {
          "output_type": "execute_result",
          "data": {
            "text/plain": [
              "<seaborn.axisgrid.PairGrid at 0x7fcc7a6f6350>"
            ]
          },
          "metadata": {},
          "execution_count": 32
        },
        {
          "output_type": "display_data",
          "data": {
            "text/plain": [
              "<Figure size 1620x180 with 10 Axes>"
            ],
            "image/png": "[encoded data removed]"
          },
          "metadata": {}
        }
      ],
      "source": [
        "sns.pairplot(train,y_vars='Actual CTC')"
      ]
    },
    {
      "cell_type": "code",
      "execution_count": 33,
      "id": "30103425",
      "metadata": {
        "id": "30103425",
        "outputId": "e5e06ea0-0364-4e18-e562-475e82c16221",
        "colab": {
          "base_uri": "https://localhost:8080/",
          "height": 465
        }
      },
      "outputs": [
        {
          "output_type": "execute_result",
          "data": {
            "text/plain": [
              "                      previous CTC  previous job changes  Graduation marks  \\\n",
              "previous CTC              1.000000              0.008282         -0.037170   \n",
              "previous job changes      0.008282              1.000000          0.001507   \n",
              "Graduation marks         -0.037170              0.001507          1.000000   \n",
              "Exp                       0.117035              0.034137         -0.065412   \n",
              "Actual CTC                0.270260              0.007518         -0.017557   \n",
              "College_T1               -0.090043              0.037294          0.015750   \n",
              "College_T2                0.232138              0.008599          0.010571   \n",
              "Role_Manager              0.021208             -0.013131          0.014541   \n",
              "City_Metro                0.036956             -0.001568          0.018550   \n",
              "\n",
              "                           Exp  Actual CTC  College_T1  College_T2  \\\n",
              "previous CTC          0.117035    0.270260   -0.090043    0.232138   \n",
              "previous job changes  0.034137    0.007518    0.037294    0.008599   \n",
              "Graduation marks     -0.065412   -0.017557    0.015750    0.010571   \n",
              "Exp                   1.000000    0.301569    0.010716   -0.011642   \n",
              "Actual CTC            0.301569    1.000000    0.165249   -0.041814   \n",
              "College_T1            0.010716    0.165249    1.000000   -0.593313   \n",
              "College_T2           -0.011642   -0.041814   -0.593313    1.000000   \n",
              "Role_Manager         -0.025019    0.625435   -0.029292    0.068498   \n",
              "City_Metro           -0.020856    0.211258   -0.005669    0.017117   \n",
              "\n",
              "                      Role_Manager  City_Metro  \n",
              "previous CTC              0.021208    0.036956  \n",
              "previous job changes     -0.013131   -0.001568  \n",
              "Graduation marks          0.014541    0.018550  \n",
              "Exp                      -0.025019   -0.020856  \n",
              "Actual CTC                0.625435    0.211258  \n",
              "College_T1               -0.029292   -0.005669  \n",
              "College_T2                0.068498    0.017117  \n",
              "Role_Manager              1.000000    0.076185  \n",
              "City_Metro                0.076185    1.000000  "
            ],
            "text/html": [
              "\n",
              "  <div id=\"df-a87b3f8d-11a8-423a-9dac-bbc8b231875c\">\n",
              "    <div class=\"colab-df-container\">\n",
              "      <div>\n",
              "<style scoped>\n",
              "    .dataframe tbody tr th:only-of-type {\n",
              "        vertical-align: middle;\n",
              "    }\n",
              "\n",
              "    .dataframe tbody tr th {\n",
              "        vertical-align: top;\n",
              "    }\n",
              "\n",
              "    .dataframe thead th {\n",
              "        text-align: right;\n",
              "    }\n",
              "</style>\n",
              "<table border=\"1\" class=\"dataframe\">\n",
              "  <thead>\n",
              "    <tr style=\"text-align: right;\">\n",
              "      <th></th>\n",
              "      <th>previous CTC</th>\n",
              "      <th>previous job changes</th>\n",
              "      <th>Graduation marks</th>\n",
              "      <th>Exp</th>\n",
              "      <th>Actual CTC</th>\n",
              "      <th>College_T1</th>\n",
              "      <th>College_T2</th>\n",
              "      <th>Role_Manager</th>\n",
              "      <th>City_Metro</th>\n",
              "    </tr>\n",
              "  </thead>\n",
              "  <tbody>\n",
              "    <tr>\n",
              "      <th>previous CTC</th>\n",
              "      <td>1.000000</td>\n",
              "      <td>0.008282</td>\n",
              "      <td>-0.037170</td>\n",
              "      <td>0.117035</td>\n",
              "      <td>0.270260</td>\n",
              "      <td>-0.090043</td>\n",
              "      <td>0.232138</td>\n",
              "      <td>0.021208</td>\n",
              "      <td>0.036956</td>\n",
              "    </tr>\n",
              "    <tr>\n",
              "      <th>previous job changes</th>\n",
              "      <td>0.008282</td>\n",
              "      <td>1.000000</td>\n",
              "      <td>0.001507</td>\n",
              "      <td>0.034137</td>\n",
              "      <td>0.007518</td>\n",
              "      <td>0.037294</td>\n",
              "      <td>0.008599</td>\n",
              "      <td>-0.013131</td>\n",
              "      <td>-0.001568</td>\n",
              "    </tr>\n",
              "    <tr>\n",
              "      <th>Graduation marks</th>\n",
              "      <td>-0.037170</td>\n",
              "      <td>0.001507</td>\n",
              "      <td>1.000000</td>\n",
              "      <td>-0.065412</td>\n",
              "      <td>-0.017557</td>\n",
              "      <td>0.015750</td>\n",
              "      <td>0.010571</td>\n",
              "      <td>0.014541</td>\n",
              "      <td>0.018550</td>\n",
              "    </tr>\n",
              "    <tr>\n",
              "      <th>Exp</th>\n",
              "      <td>0.117035</td>\n",
              "      <td>0.034137</td>\n",
              "      <td>-0.065412</td>\n",
              "      <td>1.000000</td>\n",
              "      <td>0.301569</td>\n",
              "      <td>0.010716</td>\n",
              "      <td>-0.011642</td>\n",
              "      <td>-0.025019</td>\n",
              "      <td>-0.020856</td>\n",
              "    </tr>\n",
              "    <tr>\n",
              "      <th>Actual CTC</th>\n",
              "      <td>0.270260</td>\n",
              "      <td>0.007518</td>\n",
              "      <td>-0.017557</td>\n",
              "      <td>0.301569</td>\n",
              "      <td>1.000000</td>\n",
              "      <td>0.165249</td>\n",
              "      <td>-0.041814</td>\n",
              "      <td>0.625435</td>\n",
              "      <td>0.211258</td>\n",
              "    </tr>\n",
              "    <tr>\n",
              "      <th>College_T1</th>\n",
              "      <td>-0.090043</td>\n",
              "      <td>0.037294</td>\n",
              "      <td>0.015750</td>\n",
              "      <td>0.010716</td>\n",
              "      <td>0.165249</td>\n",
              "      <td>1.000000</td>\n",
              "      <td>-0.593313</td>\n",
              "      <td>-0.029292</td>\n",
              "      <td>-0.005669</td>\n",
              "    </tr>\n",
              "    <tr>\n",
              "      <th>College_T2</th>\n",
              "      <td>0.232138</td>\n",
              "      <td>0.008599</td>\n",
              "      <td>0.010571</td>\n",
              "      <td>-0.011642</td>\n",
              "      <td>-0.041814</td>\n",
              "      <td>-0.593313</td>\n",
              "      <td>1.000000</td>\n",
              "      <td>0.068498</td>\n",
              "      <td>0.017117</td>\n",
              "    </tr>\n",
              "    <tr>\n",
              "      <th>Role_Manager</th>\n",
              "      <td>0.021208</td>\n",
              "      <td>-0.013131</td>\n",
              "      <td>0.014541</td>\n",
              "      <td>-0.025019</td>\n",
              "      <td>0.625435</td>\n",
              "      <td>-0.029292</td>\n",
              "      <td>0.068498</td>\n",
              "      <td>1.000000</td>\n",
              "      <td>0.076185</td>\n",
              "    </tr>\n",
              "    <tr>\n",
              "      <th>City_Metro</th>\n",
              "      <td>0.036956</td>\n",
              "      <td>-0.001568</td>\n",
              "      <td>0.018550</td>\n",
              "      <td>-0.020856</td>\n",
              "      <td>0.211258</td>\n",
              "      <td>-0.005669</td>\n",
              "      <td>0.017117</td>\n",
              "      <td>0.076185</td>\n",
              "      <td>1.000000</td>\n",
              "    </tr>\n",
              "  </tbody>\n",
              "</table>\n",
              "</div>\n",
              "      <button class=\"colab-df-convert\" onclick=\"convertToInteractive('df-a87b3f8d-11a8-423a-9dac-bbc8b231875c')\"\n",
              "              title=\"Convert this dataframe to an interactive table.\"\n",
              "              style=\"display:none;\">\n",
              "        \n",
              "  <svg xmlns=\"http://www.w3.org/2000/svg\" height=\"24px\"viewBox=\"0 0 24 24\"\n",
              "       width=\"24px\">\n",
              "    <path d=\"M0 0h24v24H0V0z\" fill=\"none\"/>\n",
              "    <path d=\"M18.56 5.44l.94 2.06.94-2.06 2.06-.94-2.06-.94-.94-2.06-.94 2.06-2.06.94zm-11 1L8.5 8.5l.94-2.06 2.06-.94-2.06-.94L8.5 2.5l-.94 2.06-2.06.94zm10 10l.94 2.06.94-2.06 2.06-.94-2.06-.94-.94-2.06-.94 2.06-2.06.94z\"/><path d=\"M17.41 7.96l-1.37-1.37c-.4-.4-.92-.59-1.43-.59-.52 0-1.04.2-1.43.59L10.3 9.45l-7.72 7.72c-.78.78-.78 2.05 0 2.83L4 21.41c.39.39.9.59 1.41.59.51 0 1.02-.2 1.41-.59l7.78-7.78 2.81-2.81c.8-.78.8-2.07 0-2.86zM5.41 20L4 18.59l7.72-7.72 1.47 1.35L5.41 20z\"/>\n",
              "  </svg>\n",
              "      </button>\n",
              "      \n",
              "  <style>\n",
              "    .colab-df-container {\n",
              "      display:flex;\n",
              "      flex-wrap:wrap;\n",
              "      gap: 12px;\n",
              "    }\n",
              "\n",
              "    .colab-df-convert {\n",
              "      background-color: #E8F0FE;\n",
              "      border: none;\n",
              "      border-radius: 50%;\n",
              "      cursor: pointer;\n",
              "      display: none;\n",
              "      fill: #1967D2;\n",
              "      height: 32px;\n",
              "      padding: 0 0 0 0;\n",
              "      width: 32px;\n",
              "    }\n",
              "\n",
              "    .colab-df-convert:hover {\n",
              "      background-color: #E2EBFA;\n",
              "      box-shadow: 0px 1px 2px rgba(60, 64, 67, 0.3), 0px 1px 3px 1px rgba(60, 64, 67, 0.15);\n",
              "      fill: #174EA6;\n",
              "    }\n",
              "\n",
              "    [theme=dark] .colab-df-convert {\n",
              "      background-color: #3B4455;\n",
              "      fill: #D2E3FC;\n",
              "    }\n",
              "\n",
              "    [theme=dark] .colab-df-convert:hover {\n",
              "      background-color: #434B5C;\n",
              "      box-shadow: 0px 1px 3px 1px rgba(0, 0, 0, 0.15);\n",
              "      filter: drop-shadow(0px 1px 2px rgba(0, 0, 0, 0.3));\n",
              "      fill: #FFFFFF;\n",
              "    }\n",
              "  </style>\n",
              "\n",
              "      <script>\n",
              "        const buttonEl =\n",
              "          document.querySelector('#df-a87b3f8d-11a8-423a-9dac-bbc8b231875c button.colab-df-convert');\n",
              "        buttonEl.style.display =\n",
              "          google.colab.kernel.accessAllowed ? 'block' : 'none';\n",
              "\n",
              "        async function convertToInteractive(key) {\n",
              "          const element = document.querySelector('#df-a87b3f8d-11a8-423a-9dac-bbc8b231875c');\n",
              "          const dataTable =\n",
              "            await google.colab.kernel.invokeFunction('convertToInteractive',\n",
              "                                                     [key], {});\n",
              "          if (!dataTable) return;\n",
              "\n",
              "          const docLinkHtml = 'Like what you see? Visit the ' +\n",
              "            '<a target=\"_blank\" href=https://colab.research.google.com/notebooks/data_table.ipynb>data table notebook</a>'\n",
              "            + ' to learn more about interactive tables.';\n",
              "          element.innerHTML = '';\n",
              "          dataTable['output_type'] = 'display_data';\n",
              "          await google.colab.output.renderOutput(dataTable, element);\n",
              "          const docLink = document.createElement('div');\n",
              "          docLink.innerHTML = docLinkHtml;\n",
              "          element.appendChild(docLink);\n",
              "        }\n",
              "      </script>\n",
              "    </div>\n",
              "  </div>\n",
              "  "
            ]
          },
          "metadata": {},
          "execution_count": 33
        }
      ],
      "source": [
        "# correlation matrix\n",
        "train.corr()"
      ]
    },
    {
      "cell_type": "markdown",
      "id": "951afaec",
      "metadata": {
        "id": "951afaec"
      },
      "source": [
        "# Model Training"
      ]
    },
    {
      "cell_type": "code",
      "execution_count": 34,
      "id": "2e42c089",
      "metadata": {
        "colab": {
          "base_uri": "https://localhost:8080/"
        },
        "id": "2e42c089",
        "outputId": "ac487e2e-99ae-47e2-db4c-5d7dec96ed4b"
      },
      "outputs": [
        {
          "output_type": "execute_result",
          "data": {
            "text/plain": [
              "(1338, 9)"
            ]
          },
          "metadata": {},
          "execution_count": 34
        }
      ],
      "source": [
        "train.shape"
      ]
    },
    {
      "cell_type": "code",
      "execution_count": 35,
      "id": "4a518ee1",
      "metadata": {
        "id": "4a518ee1"
      },
      "outputs": [],
      "source": [
        "X=train.drop(columns=['Actual CTC'])\n",
        "Y = train['Actual CTC']"
      ]
    },
    {
      "cell_type": "code",
      "execution_count": 36,
      "id": "ee01e0b5",
      "metadata": {
        "colab": {
          "base_uri": "https://localhost:8080/"
        },
        "id": "ee01e0b5",
        "outputId": "fba11853-e9b9-4f12-8e21-50e08b8db2c0"
      },
      "outputs": [
        {
          "output_type": "stream",
          "name": "stdout",
          "text": [
            "Shape of X table:  (1338, 8) \t Shape of Y matrix:  (1338,) Shape of Y_test matrix:  (1338,)\n"
          ]
        }
      ],
      "source": [
        "print(\"Shape of X table: \",X.shape,\"\\t\",'Shape of Y matrix: ',Y.shape,'Shape of Y_test matrix: ',Y_test.shape)"
      ]
    },
    {
      "cell_type": "code",
      "execution_count": 37,
      "id": "d4b55191",
      "metadata": {
        "colab": {
          "base_uri": "https://localhost:8080/"
        },
        "id": "d4b55191",
        "outputId": "9da6e93b-4bcf-445d-ea27-dc82e6c56645"
      },
      "outputs": [
        {
          "output_type": "execute_result",
          "data": {
            "text/plain": [
              "Index(['previous CTC', 'previous job changes', 'Graduation marks', 'Exp',\n",
              "       'College_T1', 'College_T2', 'Role_Manager', 'City_Metro'],\n",
              "      dtype='object')"
            ]
          },
          "metadata": {},
          "execution_count": 37
        }
      ],
      "source": [
        "X.columns"
      ]
    },
    {
      "cell_type": "code",
      "execution_count": 38,
      "id": "8bc7e430",
      "metadata": {
        "colab": {
          "base_uri": "https://localhost:8080/"
        },
        "id": "8bc7e430",
        "outputId": "948d3a19-e746-4960-ecc0-05218327e931"
      },
      "outputs": [
        {
          "output_type": "execute_result",
          "data": {
            "text/plain": [
              "Index(['previous CTC', 'previous job changes', 'Graduation marks', 'Exp',\n",
              "       'College_T1', 'College_T2', 'Role_Manager', 'City_Metro'],\n",
              "      dtype='object')"
            ]
          },
          "metadata": {},
          "execution_count": 38
        }
      ],
      "source": [
        "test.columns"
      ]
    },
    {
      "cell_type": "markdown",
      "id": "3ee0e1e9",
      "metadata": {
        "id": "3ee0e1e9"
      },
      "source": [
        "# Linear Regression Model"
      ]
    },
    {
      "cell_type": "code",
      "execution_count": 39,
      "id": "656ec2d0",
      "metadata": {
        "id": "656ec2d0"
      },
      "outputs": [],
      "source": [
        "#Importing sklearn linearregression library\n",
        "from sklearn.linear_model import LinearRegression"
      ]
    },
    {
      "cell_type": "code",
      "execution_count": 40,
      "id": "4cbefb45",
      "metadata": {
        "id": "4cbefb45"
      },
      "outputs": [],
      "source": [
        "model = LinearRegression()"
      ]
    },
    {
      "cell_type": "code",
      "execution_count": 41,
      "id": "c03d2f2a",
      "metadata": {
        "colab": {
          "base_uri": "https://localhost:8080/"
        },
        "id": "c03d2f2a",
        "outputId": "4a999f79-c85e-469c-d5b5-06bdbe4581b0"
      },
      "outputs": [
        {
          "output_type": "execute_result",
          "data": {
            "text/plain": [
              "LinearRegression()"
            ]
          },
          "metadata": {},
          "execution_count": 41
        }
      ],
      "source": [
        "model.fit(X,Y)"
      ]
    },
    {
      "cell_type": "code",
      "execution_count": 42,
      "id": "91b64993",
      "metadata": {
        "id": "91b64993"
      },
      "outputs": [],
      "source": [
        "#importing scoring library to check for mse value of the trained model\n",
        "from sklearn.metrics import mean_squared_error,mean_absolute_error"
      ]
    },
    {
      "cell_type": "markdown",
      "id": "94e9337e",
      "metadata": {
        "id": "94e9337e"
      },
      "source": [
        "# Model Evaluation"
      ]
    },
    {
      "cell_type": "code",
      "execution_count": 43,
      "id": "2e4dc740",
      "metadata": {
        "colab": {
          "base_uri": "https://localhost:8080/"
        },
        "id": "2e4dc740",
        "outputId": "95ef4a8d-5245-4779-ea32-9fb320c06eb7"
      },
      "outputs": [
        {
          "output_type": "execute_result",
          "data": {
            "text/plain": [
              "61677937.04476757"
            ]
          },
          "metadata": {},
          "execution_count": 43
        }
      ],
      "source": [
        "mean_squared_error(Y_test,model.predict(test))"
      ]
    },
    {
      "cell_type": "code",
      "execution_count": null,
      "id": "a2ec5d9b",
      "metadata": {
        "id": "a2ec5d9b"
      },
      "outputs": [],
      "source": [
        ""
      ]
    },
    {
      "cell_type": "code",
      "execution_count": null,
      "id": "aedecd29",
      "metadata": {
        "id": "aedecd29"
      },
      "outputs": [],
      "source": [
        ""
      ]
    }
  ],
  "metadata": {
    "kernelspec": {
      "display_name": "Python 3 (ipykernel)",
      "language": "python",
      "name": "python3"
    },
    "language_info": {
      "codemirror_mode": {
        "name": "ipython",
        "version": 3
      },
      "file_extension": ".py",
      "mimetype": "text/x-python",
      "name": "python",
      "nbconvert_exporter": "python",
      "pygments_lexer": "ipython3",
      "version": "3.9.12"
    },
    "colab": {
      "name": "Task1.ipynb",
      "provenance": [],
      "collapsed_sections": [
        "4ee7070d",
        "14b18458"
      ],
      "include_colab_link": true
    }
  },
  "nbformat": 4,
  "nbformat_minor": 5
}